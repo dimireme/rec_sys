{
 "cells": [
  {
   "cell_type": "markdown",
   "metadata": {},
   "source": [
    "# Домащнее задание 2\n",
    "\n",
    "## Бейзлайны, Детерминированные алгоритмы"
   ]
  },
  {
   "cell_type": "code",
   "execution_count": 453,
   "metadata": {},
   "outputs": [],
   "source": [
    "import pandas as pd\n",
    "import numpy as np\n",
    "import matplotlib.pyplot as plt\n",
    "%matplotlib inline\n",
    "\n",
    "# Для работы с матрицами\n",
    "from scipy.sparse import csr_matrix, coo_matrix\n",
    "\n",
    "# Детерминированные алгоритмы\n",
    "from implicit.nearest_neighbours import ItemItemRecommender, CosineRecommender, TFIDFRecommender, BM25Recommender\n",
    "\n",
    "# Метрики\n",
    "from implicit.evaluation import train_test_split\n",
    "from implicit.evaluation import precision_at_k, mean_average_precision_at_k, AUC_at_k, ndcg_at_k"
   ]
  },
  {
   "cell_type": "code",
   "execution_count": 454,
   "metadata": {},
   "outputs": [
    {
     "output_type": "execute_result",
     "data": {
      "text/plain": "   user_id    basket_id  day  item_id  quantity  sales_value  store_id  \\\n0     2375  26984851472    1  1004906         1         1.39       364   \n1     2375  26984851472    1  1033142         1         0.82       364   \n\n   retail_disc  trans_time  week_no  coupon_disc  coupon_match_disc  \n0         -0.6        1631        1          0.0                0.0  \n1          0.0        1631        1          0.0                0.0  ",
      "text/html": "<div>\n<style scoped>\n    .dataframe tbody tr th:only-of-type {\n        vertical-align: middle;\n    }\n\n    .dataframe tbody tr th {\n        vertical-align: top;\n    }\n\n    .dataframe thead th {\n        text-align: right;\n    }\n</style>\n<table border=\"1\" class=\"dataframe\">\n  <thead>\n    <tr style=\"text-align: right;\">\n      <th></th>\n      <th>user_id</th>\n      <th>basket_id</th>\n      <th>day</th>\n      <th>item_id</th>\n      <th>quantity</th>\n      <th>sales_value</th>\n      <th>store_id</th>\n      <th>retail_disc</th>\n      <th>trans_time</th>\n      <th>week_no</th>\n      <th>coupon_disc</th>\n      <th>coupon_match_disc</th>\n    </tr>\n  </thead>\n  <tbody>\n    <tr>\n      <th>0</th>\n      <td>2375</td>\n      <td>26984851472</td>\n      <td>1</td>\n      <td>1004906</td>\n      <td>1</td>\n      <td>1.39</td>\n      <td>364</td>\n      <td>-0.6</td>\n      <td>1631</td>\n      <td>1</td>\n      <td>0.0</td>\n      <td>0.0</td>\n    </tr>\n    <tr>\n      <th>1</th>\n      <td>2375</td>\n      <td>26984851472</td>\n      <td>1</td>\n      <td>1033142</td>\n      <td>1</td>\n      <td>0.82</td>\n      <td>364</td>\n      <td>0.0</td>\n      <td>1631</td>\n      <td>1</td>\n      <td>0.0</td>\n      <td>0.0</td>\n    </tr>\n  </tbody>\n</table>\n</div>"
     },
     "metadata": {},
     "execution_count": 454
    }
   ],
   "source": [
    "data = pd.read_csv('../data/retail_train.csv')\n",
    "data.head(2)"
   ]
  },
  {
   "cell_type": "code",
   "execution_count": 455,
   "metadata": {},
   "outputs": [],
   "source": [
    "test_size_weeks = 3\n",
    "\n",
    "data_train = data[data['week_no'] < data['week_no'].max() - test_size_weeks]\n",
    "data_test = data[data['week_no'] >= data['week_no'].max() - test_size_weeks]"
   ]
  },
  {
   "cell_type": "markdown",
   "metadata": {},
   "source": [
    "### Задание 1. Weighted Random Recommendation\n",
    "\n",
    "Напишите код для случайных рекоммендаций, в которых вероятность рекомендовать товар прямо пропорциональна логарифму продаж\n",
    "- Можно сэмплировать товары случайно, но пропорционально какому-либо весу\n",
    "- Например, прямопропорционально популярности. Вес = log(sales_sum товара)"
   ]
  },
  {
   "cell_type": "code",
   "execution_count": 456,
   "metadata": {},
   "outputs": [],
   "source": [
    "def weighted_random_recommendation(items_weights, n=5):\n",
    "    \"\"\"Случайные рекоммендации\n",
    "    \n",
    "    Input\n",
    "    -----\n",
    "    items_weights: pd.DataFrame\n",
    "        Датафрейм со столбцами item_id, weight. Сумма weight по всем товарам = 1\n",
    "    \"\"\"\n",
    "    \n",
    "    # Подсказка: необходимо модифицировать функцию random_recommendation()\n",
    "    # your_code\n",
    "\n",
    "    recs = np.random.choice(items_weights.item_id,\n",
    "                            p=items_weights.weight, \n",
    "                            size=n,\n",
    "                            replace=False)\n",
    "\n",
    "    return recs.tolist()"
   ]
  },
  {
   "cell_type": "code",
   "execution_count": 457,
   "metadata": {},
   "outputs": [],
   "source": [
    "def get_weight_matrix(data):\n",
    "    \"\"\"Случайные рекоммендации\n",
    "    \n",
    "    Input\n",
    "    -----\n",
    "    data: pd.DataFrame\n",
    "        Датафрейм со столбцами item_id, sales_value.\n",
    "\n",
    "    Output\n",
    "    -----\n",
    "    items_weights\n",
    "        Датафрейм со столбцами item_id, weight. Вес weight пропорционален лагорифму от объема продаж.\n",
    "    \"\"\"\n",
    "\n",
    "    # Товары с рейтингом популярности.\n",
    "    items_weights = data.groupby('item_id')['sales_value'].sum().reset_index()\n",
    "\n",
    "    # Логарифм от объема продаж. Для товаров с суммой покупки меньше 1$ считаем вероятность купить этот товар равной нулю.\n",
    "    log_sales_value = items_weights.sales_value.apply(lambda x: 0 if x < 1 else np.log(x))\n",
    "\n",
    "    # Сумма log_sales_value по всем товарам.\n",
    "    log_sales_value_sum = log_sales_value.sum()\n",
    "\n",
    "    # Расчет веса товара по популярности.\n",
    "    items_weights['weight'] = log_sales_value.apply(lambda x: x / log_sales_value_sum)\n",
    "\n",
    "    return items_weights"
   ]
  },
  {
   "cell_type": "code",
   "execution_count": 458,
   "metadata": {
    "tags": []
   },
   "outputs": [
    {
     "output_type": "stream",
     "name": "stdout",
     "text": "CPU times: user 208 ms, sys: 0 ns, total: 208 ms\nWall time: 207 ms\n"
    },
    {
     "output_type": "execute_result",
     "data": {
      "text/plain": "   item_id  sales_value    weight\n0    25671        20.94  0.000013\n1    26081         0.99  0.000000\n2    26093         1.59  0.000002\n3    26190         1.54  0.000002\n4    26355         1.98  0.000003",
      "text/html": "<div>\n<style scoped>\n    .dataframe tbody tr th:only-of-type {\n        vertical-align: middle;\n    }\n\n    .dataframe tbody tr th {\n        vertical-align: top;\n    }\n\n    .dataframe thead th {\n        text-align: right;\n    }\n</style>\n<table border=\"1\" class=\"dataframe\">\n  <thead>\n    <tr style=\"text-align: right;\">\n      <th></th>\n      <th>item_id</th>\n      <th>sales_value</th>\n      <th>weight</th>\n    </tr>\n  </thead>\n  <tbody>\n    <tr>\n      <th>0</th>\n      <td>25671</td>\n      <td>20.94</td>\n      <td>0.000013</td>\n    </tr>\n    <tr>\n      <th>1</th>\n      <td>26081</td>\n      <td>0.99</td>\n      <td>0.000000</td>\n    </tr>\n    <tr>\n      <th>2</th>\n      <td>26093</td>\n      <td>1.59</td>\n      <td>0.000002</td>\n    </tr>\n    <tr>\n      <th>3</th>\n      <td>26190</td>\n      <td>1.54</td>\n      <td>0.000002</td>\n    </tr>\n    <tr>\n      <th>4</th>\n      <td>26355</td>\n      <td>1.98</td>\n      <td>0.000003</td>\n    </tr>\n  </tbody>\n</table>\n</div>"
     },
     "metadata": {},
     "execution_count": 458
    }
   ],
   "source": [
    "%%time\n",
    "\n",
    "# your_code\n",
    "\n",
    "items_weights = get_weight_matrix(data)\n",
    "items_weights.head() "
   ]
  },
  {
   "cell_type": "markdown",
   "metadata": {},
   "source": [
    "Проверим правильность расчета весов."
   ]
  },
  {
   "cell_type": "code",
   "execution_count": 459,
   "metadata": {},
   "outputs": [
    {
     "output_type": "execute_result",
     "data": {
      "text/plain": "0.9999999999999999"
     },
     "metadata": {},
     "execution_count": 459
    }
   ],
   "source": [
    "items_weights.weight.sum()"
   ]
  },
  {
   "cell_type": "markdown",
   "metadata": {},
   "source": [
    "Сформируем датафрейм для сохранения всех результатов."
   ]
  },
  {
   "cell_type": "code",
   "execution_count": 460,
   "metadata": {},
   "outputs": [
    {
     "output_type": "execute_result",
     "data": {
      "text/plain": "   user_id                                             actual\n0        1  [821867, 834484, 856942, 865456, 889248, 90795...\n1        3  [835476, 851057, 872021, 878302, 879948, 90963...",
      "text/html": "<div>\n<style scoped>\n    .dataframe tbody tr th:only-of-type {\n        vertical-align: middle;\n    }\n\n    .dataframe tbody tr th {\n        vertical-align: top;\n    }\n\n    .dataframe thead th {\n        text-align: right;\n    }\n</style>\n<table border=\"1\" class=\"dataframe\">\n  <thead>\n    <tr style=\"text-align: right;\">\n      <th></th>\n      <th>user_id</th>\n      <th>actual</th>\n    </tr>\n  </thead>\n  <tbody>\n    <tr>\n      <th>0</th>\n      <td>1</td>\n      <td>[821867, 834484, 856942, 865456, 889248, 90795...</td>\n    </tr>\n    <tr>\n      <th>1</th>\n      <td>3</td>\n      <td>[835476, 851057, 872021, 878302, 879948, 90963...</td>\n    </tr>\n  </tbody>\n</table>\n</div>"
     },
     "metadata": {},
     "execution_count": 460
    }
   ],
   "source": [
    "result = data_test.groupby('user_id')['item_id'].unique().reset_index()\n",
    "result.columns=['user_id', 'actual']\n",
    "result.head(2)"
   ]
  },
  {
   "cell_type": "markdown",
   "metadata": {},
   "source": [
    "Добавим взвешенные случайные рекомендации к итоговому датафрейму."
   ]
  },
  {
   "cell_type": "code",
   "execution_count": 461,
   "metadata": {
    "tags": []
   },
   "outputs": [
    {
     "output_type": "stream",
     "name": "stdout",
     "text": "CPU times: user 2.13 s, sys: 3.8 ms, total: 2.14 s\nWall time: 2.13 s\n"
    },
    {
     "output_type": "execute_result",
     "data": {
      "text/plain": "   user_id                                             actual  \\\n0        1  [821867, 834484, 856942, 865456, 889248, 90795...   \n1        3  [835476, 851057, 872021, 878302, 879948, 90963...   \n\n                   weighted_random_recommendation  \n0      [929684, 937429, 931758, 9798525, 6534177]  \n1  [13095505, 1069312, 13416533, 2026317, 459047]  ",
      "text/html": "<div>\n<style scoped>\n    .dataframe tbody tr th:only-of-type {\n        vertical-align: middle;\n    }\n\n    .dataframe tbody tr th {\n        vertical-align: top;\n    }\n\n    .dataframe thead th {\n        text-align: right;\n    }\n</style>\n<table border=\"1\" class=\"dataframe\">\n  <thead>\n    <tr style=\"text-align: right;\">\n      <th></th>\n      <th>user_id</th>\n      <th>actual</th>\n      <th>weighted_random_recommendation</th>\n    </tr>\n  </thead>\n  <tbody>\n    <tr>\n      <th>0</th>\n      <td>1</td>\n      <td>[821867, 834484, 856942, 865456, 889248, 90795...</td>\n      <td>[929684, 937429, 931758, 9798525, 6534177]</td>\n    </tr>\n    <tr>\n      <th>1</th>\n      <td>3</td>\n      <td>[835476, 851057, 872021, 878302, 879948, 90963...</td>\n      <td>[13095505, 1069312, 13416533, 2026317, 459047]</td>\n    </tr>\n  </tbody>\n</table>\n</div>"
     },
     "metadata": {},
     "execution_count": 461
    }
   ],
   "source": [
    "%%time\n",
    "\n",
    "result['weighted_random_recommendation'] = result['user_id'].apply(lambda x: weighted_random_recommendation(items_weights, n=5))\n",
    "result.head(2)"
   ]
  },
  {
   "cell_type": "markdown",
   "metadata": {},
   "source": [
    "### Задание 2. Расчет метрик\n",
    "Рассчитайте Precision@5 для каждого алгоритма с помощью функции из вебинара 1. Какой алгоритм показывает лучшее качество?"
   ]
  },
  {
   "cell_type": "markdown",
   "metadata": {},
   "source": [
    "Здесь для ускорения процесса и для сохранения различных алгоритмов в истории (в git репозитории), скопируем методы из методички и проведём рассчет датафрейма `results`.  "
   ]
  },
  {
   "cell_type": "markdown",
   "metadata": {},
   "source": [
    "### Random recommendation"
   ]
  },
  {
   "cell_type": "code",
   "execution_count": 462,
   "metadata": {},
   "outputs": [],
   "source": [
    "def random_recommendation(items, n=5):\n",
    "    \"\"\"Случайные рекоммендации\"\"\"\n",
    "\n",
    "    items = np.array(items)\n",
    "    recs = np.random.choice(items, size=n, replace=False)\n",
    "    \n",
    "    return recs.tolist()"
   ]
  },
  {
   "cell_type": "code",
   "execution_count": 463,
   "metadata": {
    "tags": []
   },
   "outputs": [
    {
     "output_type": "stream",
     "name": "stdout",
     "text": "CPU times: user 3.1 s, sys: 0 ns, total: 3.1 s\nWall time: 3.1 s\n"
    },
    {
     "output_type": "execute_result",
     "data": {
      "text/plain": "   user_id                                             actual  \\\n0        1  [821867, 834484, 856942, 865456, 889248, 90795...   \n1        3  [835476, 851057, 872021, 878302, 879948, 90963...   \n\n                   weighted_random_recommendation  \\\n0      [929684, 937429, 931758, 9798525, 6534177]   \n1  [13095505, 1069312, 13416533, 2026317, 459047]   \n\n                            random_recommendation  \n0   [9220370, 774986, 130415, 12757162, 16196182]  \n1  [993339, 12171318, 13189511, 831151, 15925571]  ",
      "text/html": "<div>\n<style scoped>\n    .dataframe tbody tr th:only-of-type {\n        vertical-align: middle;\n    }\n\n    .dataframe tbody tr th {\n        vertical-align: top;\n    }\n\n    .dataframe thead th {\n        text-align: right;\n    }\n</style>\n<table border=\"1\" class=\"dataframe\">\n  <thead>\n    <tr style=\"text-align: right;\">\n      <th></th>\n      <th>user_id</th>\n      <th>actual</th>\n      <th>weighted_random_recommendation</th>\n      <th>random_recommendation</th>\n    </tr>\n  </thead>\n  <tbody>\n    <tr>\n      <th>0</th>\n      <td>1</td>\n      <td>[821867, 834484, 856942, 865456, 889248, 90795...</td>\n      <td>[929684, 937429, 931758, 9798525, 6534177]</td>\n      <td>[9220370, 774986, 130415, 12757162, 16196182]</td>\n    </tr>\n    <tr>\n      <th>1</th>\n      <td>3</td>\n      <td>[835476, 851057, 872021, 878302, 879948, 90963...</td>\n      <td>[13095505, 1069312, 13416533, 2026317, 459047]</td>\n      <td>[993339, 12171318, 13189511, 831151, 15925571]</td>\n    </tr>\n  </tbody>\n</table>\n</div>"
     },
     "metadata": {},
     "execution_count": 463
    }
   ],
   "source": [
    "%%time\n",
    "\n",
    "items = data.item_id.unique()\n",
    "\n",
    "result['random_recommendation'] = result['user_id'].apply(lambda x: random_recommendation(items, n=5))\n",
    "result.head(2)"
   ]
  },
  {
   "cell_type": "markdown",
   "metadata": {},
   "source": [
    "### Popularity-based recommendation"
   ]
  },
  {
   "cell_type": "code",
   "execution_count": 464,
   "metadata": {},
   "outputs": [],
   "source": [
    "def popularity_recommendation(data, n=5):\n",
    "    \"\"\"Топ-n популярных товаров\"\"\"\n",
    "    \n",
    "    popular = data.groupby('item_id')['sales_value'].sum().reset_index()\n",
    "    popular.sort_values('sales_value', ascending=False, inplace=True)\n",
    "    \n",
    "    recs = popular.head(n).item_id\n",
    "    \n",
    "    return recs.tolist()"
   ]
  },
  {
   "cell_type": "code",
   "execution_count": 465,
   "metadata": {
    "tags": []
   },
   "outputs": [
    {
     "output_type": "stream",
     "name": "stdout",
     "text": "CPU times: user 94.9 ms, sys: 0 ns, total: 94.9 ms\nWall time: 95.7 ms\n"
    },
    {
     "output_type": "execute_result",
     "data": {
      "text/plain": "   user_id                                             actual  \\\n0        1  [821867, 834484, 856942, 865456, 889248, 90795...   \n1        3  [835476, 851057, 872021, 878302, 879948, 90963...   \n\n                   weighted_random_recommendation  \\\n0      [929684, 937429, 931758, 9798525, 6534177]   \n1  [13095505, 1069312, 13416533, 2026317, 459047]   \n\n                            random_recommendation  \\\n0   [9220370, 774986, 130415, 12757162, 16196182]   \n1  [993339, 12171318, 13189511, 831151, 15925571]   \n\n                          popular_recommendation  \n0  [6534178, 6533889, 1029743, 6534166, 1082185]  \n1  [6534178, 6533889, 1029743, 6534166, 1082185]  ",
      "text/html": "<div>\n<style scoped>\n    .dataframe tbody tr th:only-of-type {\n        vertical-align: middle;\n    }\n\n    .dataframe tbody tr th {\n        vertical-align: top;\n    }\n\n    .dataframe thead th {\n        text-align: right;\n    }\n</style>\n<table border=\"1\" class=\"dataframe\">\n  <thead>\n    <tr style=\"text-align: right;\">\n      <th></th>\n      <th>user_id</th>\n      <th>actual</th>\n      <th>weighted_random_recommendation</th>\n      <th>random_recommendation</th>\n      <th>popular_recommendation</th>\n    </tr>\n  </thead>\n  <tbody>\n    <tr>\n      <th>0</th>\n      <td>1</td>\n      <td>[821867, 834484, 856942, 865456, 889248, 90795...</td>\n      <td>[929684, 937429, 931758, 9798525, 6534177]</td>\n      <td>[9220370, 774986, 130415, 12757162, 16196182]</td>\n      <td>[6534178, 6533889, 1029743, 6534166, 1082185]</td>\n    </tr>\n    <tr>\n      <th>1</th>\n      <td>3</td>\n      <td>[835476, 851057, 872021, 878302, 879948, 90963...</td>\n      <td>[13095505, 1069312, 13416533, 2026317, 459047]</td>\n      <td>[993339, 12171318, 13189511, 831151, 15925571]</td>\n      <td>[6534178, 6533889, 1029743, 6534166, 1082185]</td>\n    </tr>\n  </tbody>\n</table>\n</div>"
     },
     "metadata": {},
     "execution_count": 465
    }
   ],
   "source": [
    "%%time\n",
    "\n",
    "# Можно так делать, так как рекомендация не зависит от юзера\n",
    "popular_recs = popularity_recommendation(data, n=5)\n",
    "\n",
    "result['popular_recommendation'] = result['user_id'].apply(lambda x: popular_recs)\n",
    "result.head(2)"
   ]
  },
  {
   "cell_type": "markdown",
   "metadata": {},
   "source": [
    "### Item-Item Recommender / ItemKNN"
   ]
  },
  {
   "cell_type": "code",
   "execution_count": 466,
   "metadata": {},
   "outputs": [
    {
     "output_type": "execute_result",
     "data": {
      "text/plain": "   item_id  n_sold\n0    25671       6\n1    26081       1\n2    26093       1\n3    26190       1\n4    26355       2",
      "text/html": "<div>\n<style scoped>\n    .dataframe tbody tr th:only-of-type {\n        vertical-align: middle;\n    }\n\n    .dataframe tbody tr th {\n        vertical-align: top;\n    }\n\n    .dataframe thead th {\n        text-align: right;\n    }\n</style>\n<table border=\"1\" class=\"dataframe\">\n  <thead>\n    <tr style=\"text-align: right;\">\n      <th></th>\n      <th>item_id</th>\n      <th>n_sold</th>\n    </tr>\n  </thead>\n  <tbody>\n    <tr>\n      <th>0</th>\n      <td>25671</td>\n      <td>6</td>\n    </tr>\n    <tr>\n      <th>1</th>\n      <td>26081</td>\n      <td>1</td>\n    </tr>\n    <tr>\n      <th>2</th>\n      <td>26093</td>\n      <td>1</td>\n    </tr>\n    <tr>\n      <th>3</th>\n      <td>26190</td>\n      <td>1</td>\n    </tr>\n    <tr>\n      <th>4</th>\n      <td>26355</td>\n      <td>2</td>\n    </tr>\n  </tbody>\n</table>\n</div>"
     },
     "metadata": {},
     "execution_count": 466
    }
   ],
   "source": [
    "popularity = data.groupby('item_id')['quantity'].sum().reset_index()\n",
    "popularity.rename(columns={'quantity': 'n_sold'}, inplace=True)\n",
    "\n",
    "popularity.head()"
   ]
  },
  {
   "cell_type": "code",
   "execution_count": 467,
   "metadata": {},
   "outputs": [],
   "source": [
    "top_5000 = popularity.sort_values('n_sold', ascending=False).head(5000).item_id.tolist()"
   ]
  },
  {
   "cell_type": "code",
   "execution_count": 468,
   "metadata": {},
   "outputs": [
    {
     "output_type": "execute_result",
     "data": {
      "text/plain": "item_id  202291    397896    420647    480014    545926    707683    731106    \\\nuser_id                                                                         \n1             0.0       0.0       0.0       0.0       0.0       0.0       0.0   \n2             0.0       0.0       0.0       0.0       0.0       0.0       0.0   \n3             0.0       0.0       0.0       0.0       0.0       0.0       0.0   \n\nitem_id  818980    819063    819227    ...  15926775  15926844  15926885  \\\nuser_id                                ...                                 \n1             0.0       0.0       0.0  ...       0.0       1.0       0.0   \n2             0.0       0.0       0.0  ...       0.0       0.0       0.0   \n3             0.0       0.0       0.0  ...       0.0       0.0       0.0   \n\nitem_id  15926886  15926927  15927403  15927661  15927850  16809471  17105257  \nuser_id                                                                        \n1             0.0       1.0       0.0       0.0       0.0       0.0       0.0  \n2             0.0       0.0       0.0       0.0       0.0       0.0       0.0  \n3             0.0       0.0       0.0       0.0       0.0       0.0       0.0  \n\n[3 rows x 5001 columns]",
      "text/html": "<div>\n<style scoped>\n    .dataframe tbody tr th:only-of-type {\n        vertical-align: middle;\n    }\n\n    .dataframe tbody tr th {\n        vertical-align: top;\n    }\n\n    .dataframe thead th {\n        text-align: right;\n    }\n</style>\n<table border=\"1\" class=\"dataframe\">\n  <thead>\n    <tr style=\"text-align: right;\">\n      <th>item_id</th>\n      <th>202291</th>\n      <th>397896</th>\n      <th>420647</th>\n      <th>480014</th>\n      <th>545926</th>\n      <th>707683</th>\n      <th>731106</th>\n      <th>818980</th>\n      <th>819063</th>\n      <th>819227</th>\n      <th>...</th>\n      <th>15926775</th>\n      <th>15926844</th>\n      <th>15926885</th>\n      <th>15926886</th>\n      <th>15926927</th>\n      <th>15927403</th>\n      <th>15927661</th>\n      <th>15927850</th>\n      <th>16809471</th>\n      <th>17105257</th>\n    </tr>\n    <tr>\n      <th>user_id</th>\n      <th></th>\n      <th></th>\n      <th></th>\n      <th></th>\n      <th></th>\n      <th></th>\n      <th></th>\n      <th></th>\n      <th></th>\n      <th></th>\n      <th></th>\n      <th></th>\n      <th></th>\n      <th></th>\n      <th></th>\n      <th></th>\n      <th></th>\n      <th></th>\n      <th></th>\n      <th></th>\n      <th></th>\n    </tr>\n  </thead>\n  <tbody>\n    <tr>\n      <th>1</th>\n      <td>0.0</td>\n      <td>0.0</td>\n      <td>0.0</td>\n      <td>0.0</td>\n      <td>0.0</td>\n      <td>0.0</td>\n      <td>0.0</td>\n      <td>0.0</td>\n      <td>0.0</td>\n      <td>0.0</td>\n      <td>...</td>\n      <td>0.0</td>\n      <td>1.0</td>\n      <td>0.0</td>\n      <td>0.0</td>\n      <td>1.0</td>\n      <td>0.0</td>\n      <td>0.0</td>\n      <td>0.0</td>\n      <td>0.0</td>\n      <td>0.0</td>\n    </tr>\n    <tr>\n      <th>2</th>\n      <td>0.0</td>\n      <td>0.0</td>\n      <td>0.0</td>\n      <td>0.0</td>\n      <td>0.0</td>\n      <td>0.0</td>\n      <td>0.0</td>\n      <td>0.0</td>\n      <td>0.0</td>\n      <td>0.0</td>\n      <td>...</td>\n      <td>0.0</td>\n      <td>0.0</td>\n      <td>0.0</td>\n      <td>0.0</td>\n      <td>0.0</td>\n      <td>0.0</td>\n      <td>0.0</td>\n      <td>0.0</td>\n      <td>0.0</td>\n      <td>0.0</td>\n    </tr>\n    <tr>\n      <th>3</th>\n      <td>0.0</td>\n      <td>0.0</td>\n      <td>0.0</td>\n      <td>0.0</td>\n      <td>0.0</td>\n      <td>0.0</td>\n      <td>0.0</td>\n      <td>0.0</td>\n      <td>0.0</td>\n      <td>0.0</td>\n      <td>...</td>\n      <td>0.0</td>\n      <td>0.0</td>\n      <td>0.0</td>\n      <td>0.0</td>\n      <td>0.0</td>\n      <td>0.0</td>\n      <td>0.0</td>\n      <td>0.0</td>\n      <td>0.0</td>\n      <td>0.0</td>\n    </tr>\n  </tbody>\n</table>\n<p>3 rows × 5001 columns</p>\n</div>"
     },
     "metadata": {},
     "execution_count": 468
    }
   ],
   "source": [
    "# Заведем фиктивный item_id (если юзер покупал товары из топ-5000, то он \"купил\" такой товар)\n",
    "data_train.loc[~data_train['item_id'].isin(top_5000), 'item_id'] = 999999\n",
    "\n",
    "user_item_matrix = pd.pivot_table(data_train, \n",
    "                                  index='user_id', columns='item_id', \n",
    "                                  values='quantity',\n",
    "                                  aggfunc='count', \n",
    "                                  fill_value=0\n",
    "                                 )\n",
    "\n",
    "user_item_matrix[user_item_matrix > 0] = 1 # так как в итоге хотим предсказать \n",
    "user_item_matrix = user_item_matrix.astype(float) # необходимый тип матрицы для implicit\n",
    "\n",
    "# переведем в формат saprse matrix\n",
    "sparse_user_item = csr_matrix(user_item_matrix).tocsr()\n",
    "\n",
    "user_item_matrix.head(3)"
   ]
  },
  {
   "cell_type": "code",
   "execution_count": 469,
   "metadata": {},
   "outputs": [
    {
     "output_type": "execute_result",
     "data": {
      "text/plain": "(2499, 5001)"
     },
     "metadata": {},
     "execution_count": 469
    }
   ],
   "source": [
    "user_item_matrix.shape"
   ]
  },
  {
   "cell_type": "code",
   "execution_count": 470,
   "metadata": {},
   "outputs": [
    {
     "output_type": "execute_result",
     "data": {
      "text/plain": "5.335435513937629"
     },
     "metadata": {},
     "execution_count": 470
    }
   ],
   "source": [
    "# Разреженность матрицы.\n",
    "user_item_matrix.sum().sum() / (user_item_matrix.shape[0] * user_item_matrix.shape[1]) * 100"
   ]
  },
  {
   "cell_type": "code",
   "execution_count": 471,
   "metadata": {},
   "outputs": [],
   "source": [
    "# Словари для преобразования id\n",
    "\n",
    "userids = user_item_matrix.index.values\n",
    "itemids = user_item_matrix.columns.values\n",
    "\n",
    "matrix_userids = np.arange(len(userids))\n",
    "matrix_itemids = np.arange(len(itemids))\n",
    "\n",
    "id_to_itemid = dict(zip(matrix_itemids, itemids))\n",
    "id_to_userid = dict(zip(matrix_userids, userids))\n",
    "\n",
    "itemid_to_id = dict(zip(itemids, matrix_itemids))\n",
    "userid_to_id = dict(zip(userids, matrix_userids))"
   ]
  },
  {
   "cell_type": "code",
   "execution_count": 472,
   "metadata": {
    "tags": []
   },
   "outputs": [
    {
     "output_type": "stream",
     "name": "stderr",
     "text": "100%|██████████| 5001/5001 [00:00<00:00, 11493.28it/s]CPU times: user 1.77 s, sys: 3.96 ms, total: 1.78 s\nWall time: 623 ms\n\n"
    }
   ],
   "source": [
    "%%time\n",
    "\n",
    "model = ItemItemRecommender(K=5, num_threads=4) # K - кол-во билжайших соседей\n",
    "\n",
    "model.fit(csr_matrix(user_item_matrix).T.tocsr(), show_progress=True)  # На вход item-user matrix"
   ]
  },
  {
   "cell_type": "code",
   "execution_count": 473,
   "metadata": {
    "tags": []
   },
   "outputs": [
    {
     "output_type": "stream",
     "name": "stdout",
     "text": "CPU times: user 76.4 ms, sys: 87 µs, total: 76.5 ms\nWall time: 75.2 ms\n"
    }
   ],
   "source": [
    "%%time\n",
    "\n",
    "result['itemitem'] = result['user_id'].\\\n",
    "    apply(lambda x: [id_to_itemid[rec[0]] for rec in \n",
    "                    model.recommend(userid=userid_to_id[x], \n",
    "                                    user_items=sparse_user_item,   # на вход user-item matrix\n",
    "                                    N=5, \n",
    "                                    filter_already_liked_items=True, \n",
    "                                    filter_items=None, \n",
    "                                    recalculate_user=True)])"
   ]
  },
  {
   "cell_type": "code",
   "execution_count": 474,
   "metadata": {},
   "outputs": [
    {
     "output_type": "execute_result",
     "data": {
      "text/plain": "   user_id                                             actual  \\\n0        1  [821867, 834484, 856942, 865456, 889248, 90795...   \n1        3  [835476, 851057, 872021, 878302, 879948, 90963...   \n\n                   weighted_random_recommendation  \\\n0      [929684, 937429, 931758, 9798525, 6534177]   \n1  [13095505, 1069312, 13416533, 2026317, 459047]   \n\n                            random_recommendation  \\\n0   [9220370, 774986, 130415, 12757162, 16196182]   \n1  [993339, 12171318, 13189511, 831151, 15925571]   \n\n                          popular_recommendation  \\\n0  [6534178, 6533889, 1029743, 6534166, 1082185]   \n1  [6534178, 6533889, 1029743, 6534166, 1082185]   \n\n                                     itemitem  \n0  [981760, 1127831, 1098066, 826249, 878996]  \n1   [981760, 995242, 1029743, 840361, 961554]  ",
      "text/html": "<div>\n<style scoped>\n    .dataframe tbody tr th:only-of-type {\n        vertical-align: middle;\n    }\n\n    .dataframe tbody tr th {\n        vertical-align: top;\n    }\n\n    .dataframe thead th {\n        text-align: right;\n    }\n</style>\n<table border=\"1\" class=\"dataframe\">\n  <thead>\n    <tr style=\"text-align: right;\">\n      <th></th>\n      <th>user_id</th>\n      <th>actual</th>\n      <th>weighted_random_recommendation</th>\n      <th>random_recommendation</th>\n      <th>popular_recommendation</th>\n      <th>itemitem</th>\n    </tr>\n  </thead>\n  <tbody>\n    <tr>\n      <th>0</th>\n      <td>1</td>\n      <td>[821867, 834484, 856942, 865456, 889248, 90795...</td>\n      <td>[929684, 937429, 931758, 9798525, 6534177]</td>\n      <td>[9220370, 774986, 130415, 12757162, 16196182]</td>\n      <td>[6534178, 6533889, 1029743, 6534166, 1082185]</td>\n      <td>[981760, 1127831, 1098066, 826249, 878996]</td>\n    </tr>\n    <tr>\n      <th>1</th>\n      <td>3</td>\n      <td>[835476, 851057, 872021, 878302, 879948, 90963...</td>\n      <td>[13095505, 1069312, 13416533, 2026317, 459047]</td>\n      <td>[993339, 12171318, 13189511, 831151, 15925571]</td>\n      <td>[6534178, 6533889, 1029743, 6534166, 1082185]</td>\n      <td>[981760, 995242, 1029743, 840361, 961554]</td>\n    </tr>\n  </tbody>\n</table>\n</div>"
     },
     "metadata": {},
     "execution_count": 474
    }
   ],
   "source": [
    "result.head(2)"
   ]
  },
  {
   "cell_type": "markdown",
   "metadata": {},
   "source": [
    "### CosineRecommender"
   ]
  },
  {
   "cell_type": "code",
   "execution_count": 475,
   "metadata": {
    "tags": []
   },
   "outputs": [
    {
     "output_type": "stream",
     "name": "stderr",
     "text": "100%|██████████| 5001/5001 [00:00<00:00, 14500.07it/s]CPU times: user 1.54 s, sys: 15.7 ms, total: 1.56 s\nWall time: 547 ms\n\n"
    }
   ],
   "source": [
    "%%time\n",
    "\n",
    "model = CosineRecommender(K=5, num_threads=4) # K - кол-во билжайших соседей\n",
    "\n",
    "model.fit(csr_matrix(user_item_matrix).T.tocsr(), show_progress=True)"
   ]
  },
  {
   "cell_type": "code",
   "execution_count": 476,
   "metadata": {
    "tags": []
   },
   "outputs": [
    {
     "output_type": "stream",
     "name": "stdout",
     "text": "CPU times: user 111 ms, sys: 0 ns, total: 111 ms\nWall time: 110 ms\n"
    }
   ],
   "source": [
    "%%time\n",
    "\n",
    "result['cosine'] = result['user_id'].\\\n",
    "    apply(lambda x: [id_to_itemid[rec[0]] for rec in \n",
    "                    model.recommend(userid=userid_to_id[x], \n",
    "                                    user_items=sparse_user_item,   # на вход user-item matrix\n",
    "                                    N=5, \n",
    "                                    filter_already_liked_items=True, \n",
    "                                    filter_items=None, \n",
    "                                    recalculate_user=True)])"
   ]
  },
  {
   "cell_type": "code",
   "execution_count": 477,
   "metadata": {},
   "outputs": [
    {
     "output_type": "execute_result",
     "data": {
      "text/plain": "   user_id                                             actual  \\\n0        1  [821867, 834484, 856942, 865456, 889248, 90795...   \n1        3  [835476, 851057, 872021, 878302, 879948, 90963...   \n\n                   weighted_random_recommendation  \\\n0      [929684, 937429, 931758, 9798525, 6534177]   \n1  [13095505, 1069312, 13416533, 2026317, 459047]   \n\n                            random_recommendation  \\\n0   [9220370, 774986, 130415, 12757162, 16196182]   \n1  [993339, 12171318, 13189511, 831151, 15925571]   \n\n                          popular_recommendation  \\\n0  [6534178, 6533889, 1029743, 6534166, 1082185]   \n1  [6534178, 6533889, 1029743, 6534166, 1082185]   \n\n                                     itemitem  \\\n0  [981760, 1127831, 1098066, 826249, 878996]   \n1   [981760, 995242, 1029743, 840361, 961554]   \n\n                                        cosine  \n0   [981760, 1127831, 1098066, 878996, 826249]  \n1  [981760, 1004906, 961554, 1096036, 1080414]  ",
      "text/html": "<div>\n<style scoped>\n    .dataframe tbody tr th:only-of-type {\n        vertical-align: middle;\n    }\n\n    .dataframe tbody tr th {\n        vertical-align: top;\n    }\n\n    .dataframe thead th {\n        text-align: right;\n    }\n</style>\n<table border=\"1\" class=\"dataframe\">\n  <thead>\n    <tr style=\"text-align: right;\">\n      <th></th>\n      <th>user_id</th>\n      <th>actual</th>\n      <th>weighted_random_recommendation</th>\n      <th>random_recommendation</th>\n      <th>popular_recommendation</th>\n      <th>itemitem</th>\n      <th>cosine</th>\n    </tr>\n  </thead>\n  <tbody>\n    <tr>\n      <th>0</th>\n      <td>1</td>\n      <td>[821867, 834484, 856942, 865456, 889248, 90795...</td>\n      <td>[929684, 937429, 931758, 9798525, 6534177]</td>\n      <td>[9220370, 774986, 130415, 12757162, 16196182]</td>\n      <td>[6534178, 6533889, 1029743, 6534166, 1082185]</td>\n      <td>[981760, 1127831, 1098066, 826249, 878996]</td>\n      <td>[981760, 1127831, 1098066, 878996, 826249]</td>\n    </tr>\n    <tr>\n      <th>1</th>\n      <td>3</td>\n      <td>[835476, 851057, 872021, 878302, 879948, 90963...</td>\n      <td>[13095505, 1069312, 13416533, 2026317, 459047]</td>\n      <td>[993339, 12171318, 13189511, 831151, 15925571]</td>\n      <td>[6534178, 6533889, 1029743, 6534166, 1082185]</td>\n      <td>[981760, 995242, 1029743, 840361, 961554]</td>\n      <td>[981760, 1004906, 961554, 1096036, 1080414]</td>\n    </tr>\n  </tbody>\n</table>\n</div>"
     },
     "metadata": {},
     "execution_count": 477
    }
   ],
   "source": [
    "result.head(2)"
   ]
  },
  {
   "cell_type": "markdown",
   "metadata": {},
   "source": [
    "### TFIDFRecommender"
   ]
  },
  {
   "cell_type": "code",
   "execution_count": 478,
   "metadata": {
    "tags": []
   },
   "outputs": [
    {
     "output_type": "stream",
     "name": "stderr",
     "text": "100%|██████████| 5001/5001 [00:00<00:00, 14606.03it/s]CPU times: user 1.55 s, sys: 12.5 ms, total: 1.56 s\nWall time: 554 ms\n\n"
    }
   ],
   "source": [
    "%%time\n",
    "\n",
    "model = TFIDFRecommender(K=5, num_threads=4) # K - кол-во билжайших соседей\n",
    "\n",
    "model.fit(csr_matrix(user_item_matrix).T.tocsr(), show_progress=True)"
   ]
  },
  {
   "cell_type": "code",
   "execution_count": 479,
   "metadata": {
    "tags": []
   },
   "outputs": [
    {
     "output_type": "stream",
     "name": "stdout",
     "text": "CPU times: user 110 ms, sys: 3.96 ms, total: 114 ms\nWall time: 113 ms\n"
    }
   ],
   "source": [
    "%%time\n",
    "\n",
    "result['tfidf'] = result['user_id'].\\\n",
    "    apply(lambda x: [id_to_itemid[rec[0]] for rec in \n",
    "                    model.recommend(userid=userid_to_id[x], \n",
    "                                    user_items=sparse_user_item,   # на вход user-item matrix\n",
    "                                    N=5, \n",
    "                                    filter_already_liked_items=True, \n",
    "                                    filter_items=None, \n",
    "                                    recalculate_user=False)])"
   ]
  },
  {
   "cell_type": "code",
   "execution_count": 480,
   "metadata": {},
   "outputs": [
    {
     "output_type": "execute_result",
     "data": {
      "text/plain": "   user_id                                             actual  \\\n0        1  [821867, 834484, 856942, 865456, 889248, 90795...   \n1        3  [835476, 851057, 872021, 878302, 879948, 90963...   \n\n                   weighted_random_recommendation  \\\n0      [929684, 937429, 931758, 9798525, 6534177]   \n1  [13095505, 1069312, 13416533, 2026317, 459047]   \n\n                            random_recommendation  \\\n0   [9220370, 774986, 130415, 12757162, 16196182]   \n1  [993339, 12171318, 13189511, 831151, 15925571]   \n\n                          popular_recommendation  \\\n0  [6534178, 6533889, 1029743, 6534166, 1082185]   \n1  [6534178, 6533889, 1029743, 6534166, 1082185]   \n\n                                     itemitem  \\\n0  [981760, 1127831, 1098066, 826249, 878996]   \n1   [981760, 995242, 1029743, 840361, 961554]   \n\n                                        cosine  \\\n0   [981760, 1127831, 1098066, 878996, 826249]   \n1  [981760, 1004906, 961554, 1096036, 1080414]   \n\n                                        tfidf  \n0  [981760, 1127831, 1098066, 826249, 878996]  \n1  [981760, 1004906, 859075, 1096036, 961554]  ",
      "text/html": "<div>\n<style scoped>\n    .dataframe tbody tr th:only-of-type {\n        vertical-align: middle;\n    }\n\n    .dataframe tbody tr th {\n        vertical-align: top;\n    }\n\n    .dataframe thead th {\n        text-align: right;\n    }\n</style>\n<table border=\"1\" class=\"dataframe\">\n  <thead>\n    <tr style=\"text-align: right;\">\n      <th></th>\n      <th>user_id</th>\n      <th>actual</th>\n      <th>weighted_random_recommendation</th>\n      <th>random_recommendation</th>\n      <th>popular_recommendation</th>\n      <th>itemitem</th>\n      <th>cosine</th>\n      <th>tfidf</th>\n    </tr>\n  </thead>\n  <tbody>\n    <tr>\n      <th>0</th>\n      <td>1</td>\n      <td>[821867, 834484, 856942, 865456, 889248, 90795...</td>\n      <td>[929684, 937429, 931758, 9798525, 6534177]</td>\n      <td>[9220370, 774986, 130415, 12757162, 16196182]</td>\n      <td>[6534178, 6533889, 1029743, 6534166, 1082185]</td>\n      <td>[981760, 1127831, 1098066, 826249, 878996]</td>\n      <td>[981760, 1127831, 1098066, 878996, 826249]</td>\n      <td>[981760, 1127831, 1098066, 826249, 878996]</td>\n    </tr>\n    <tr>\n      <th>1</th>\n      <td>3</td>\n      <td>[835476, 851057, 872021, 878302, 879948, 90963...</td>\n      <td>[13095505, 1069312, 13416533, 2026317, 459047]</td>\n      <td>[993339, 12171318, 13189511, 831151, 15925571]</td>\n      <td>[6534178, 6533889, 1029743, 6534166, 1082185]</td>\n      <td>[981760, 995242, 1029743, 840361, 961554]</td>\n      <td>[981760, 1004906, 961554, 1096036, 1080414]</td>\n      <td>[981760, 1004906, 859075, 1096036, 961554]</td>\n    </tr>\n  </tbody>\n</table>\n</div>"
     },
     "metadata": {},
     "execution_count": 480
    }
   ],
   "source": [
    "result.head(2)"
   ]
  },
  {
   "cell_type": "markdown",
   "metadata": {},
   "source": [
    "### Рекомендации среди уже купленных товаров"
   ]
  },
  {
   "cell_type": "code",
   "execution_count": 481,
   "metadata": {
    "tags": []
   },
   "outputs": [
    {
     "output_type": "stream",
     "name": "stderr",
     "text": "100%|██████████| 5001/5001 [00:00<00:00, 13924.22it/s]CPU times: user 1.6 s, sys: 0 ns, total: 1.6 s\nWall time: 548 ms\n\n"
    }
   ],
   "source": [
    "%%time\n",
    "\n",
    "model = ItemItemRecommender(K=1, num_threads=4) # K - кол-во билжайших соседей\n",
    "\n",
    "model.fit(csr_matrix(user_item_matrix).T.tocsr(), show_progress=True)"
   ]
  },
  {
   "cell_type": "code",
   "execution_count": 482,
   "metadata": {
    "tags": []
   },
   "outputs": [
    {
     "output_type": "stream",
     "name": "stdout",
     "text": "CPU times: user 280 ms, sys: 49 µs, total: 280 ms\nWall time: 277 ms\n"
    }
   ],
   "source": [
    "%%time\n",
    "\n",
    "result['own_purchases'] = result['user_id'].\\\n",
    "    apply(lambda x: [id_to_itemid[rec[0]] for rec in \n",
    "                    model.recommend(userid=userid_to_id[x], \n",
    "                                    user_items=sparse_user_item,   # на вход user-item matrix\n",
    "                                    N=5, \n",
    "                                    filter_already_liked_items=False, \n",
    "                                    filter_items=[999999], \n",
    "                                    recalculate_user=False)])"
   ]
  },
  {
   "cell_type": "code",
   "execution_count": 483,
   "metadata": {},
   "outputs": [
    {
     "output_type": "execute_result",
     "data": {
      "text/plain": "   user_id                                             actual  \\\n0        1  [821867, 834484, 856942, 865456, 889248, 90795...   \n1        3  [835476, 851057, 872021, 878302, 879948, 90963...   \n\n                   weighted_random_recommendation  \\\n0      [929684, 937429, 931758, 9798525, 6534177]   \n1  [13095505, 1069312, 13416533, 2026317, 459047]   \n\n                            random_recommendation  \\\n0   [9220370, 774986, 130415, 12757162, 16196182]   \n1  [993339, 12171318, 13189511, 831151, 15925571]   \n\n                          popular_recommendation  \\\n0  [6534178, 6533889, 1029743, 6534166, 1082185]   \n1  [6534178, 6533889, 1029743, 6534166, 1082185]   \n\n                                     itemitem  \\\n0  [981760, 1127831, 1098066, 826249, 878996]   \n1   [981760, 995242, 1029743, 840361, 961554]   \n\n                                        cosine  \\\n0   [981760, 1127831, 1098066, 878996, 826249]   \n1  [981760, 1004906, 961554, 1096036, 1080414]   \n\n                                        tfidf  \\\n0  [981760, 1127831, 1098066, 826249, 878996]   \n1  [981760, 1004906, 859075, 1096036, 961554]   \n\n                                  own_purchases  \n0   [999999, 1082185, 1029743, 995785, 1004906]  \n1  [999999, 1082185, 1098066, 6534178, 1127831]  ",
      "text/html": "<div>\n<style scoped>\n    .dataframe tbody tr th:only-of-type {\n        vertical-align: middle;\n    }\n\n    .dataframe tbody tr th {\n        vertical-align: top;\n    }\n\n    .dataframe thead th {\n        text-align: right;\n    }\n</style>\n<table border=\"1\" class=\"dataframe\">\n  <thead>\n    <tr style=\"text-align: right;\">\n      <th></th>\n      <th>user_id</th>\n      <th>actual</th>\n      <th>weighted_random_recommendation</th>\n      <th>random_recommendation</th>\n      <th>popular_recommendation</th>\n      <th>itemitem</th>\n      <th>cosine</th>\n      <th>tfidf</th>\n      <th>own_purchases</th>\n    </tr>\n  </thead>\n  <tbody>\n    <tr>\n      <th>0</th>\n      <td>1</td>\n      <td>[821867, 834484, 856942, 865456, 889248, 90795...</td>\n      <td>[929684, 937429, 931758, 9798525, 6534177]</td>\n      <td>[9220370, 774986, 130415, 12757162, 16196182]</td>\n      <td>[6534178, 6533889, 1029743, 6534166, 1082185]</td>\n      <td>[981760, 1127831, 1098066, 826249, 878996]</td>\n      <td>[981760, 1127831, 1098066, 878996, 826249]</td>\n      <td>[981760, 1127831, 1098066, 826249, 878996]</td>\n      <td>[999999, 1082185, 1029743, 995785, 1004906]</td>\n    </tr>\n    <tr>\n      <th>1</th>\n      <td>3</td>\n      <td>[835476, 851057, 872021, 878302, 879948, 90963...</td>\n      <td>[13095505, 1069312, 13416533, 2026317, 459047]</td>\n      <td>[993339, 12171318, 13189511, 831151, 15925571]</td>\n      <td>[6534178, 6533889, 1029743, 6534166, 1082185]</td>\n      <td>[981760, 995242, 1029743, 840361, 961554]</td>\n      <td>[981760, 1004906, 961554, 1096036, 1080414]</td>\n      <td>[981760, 1004906, 859075, 1096036, 961554]</td>\n      <td>[999999, 1082185, 1098066, 6534178, 1127831]</td>\n    </tr>\n  </tbody>\n</table>\n</div>"
     },
     "metadata": {},
     "execution_count": 483
    }
   ],
   "source": [
    "result.head(2)"
   ]
  },
  {
   "cell_type": "markdown",
   "metadata": {},
   "source": [
    "Итоговый датафрейм сформирован, далее посчитаем метрику `Precision@5`."
   ]
  },
  {
   "cell_type": "code",
   "execution_count": 484,
   "metadata": {},
   "outputs": [],
   "source": [
    "# your_code"
   ]
  },
  {
   "cell_type": "code",
   "execution_count": 485,
   "metadata": {},
   "outputs": [],
   "source": [
    "\n",
    "def precision_at_k(recommended_list, bought_list, k=5):\n",
    "    \n",
    "    bought_list = np.array(bought_list)\n",
    "    recommended_list = np.array(recommended_list)\n",
    "    \n",
    "    bought_list = bought_list  # Тут нет [:k] !!\n",
    "    recommended_list = recommended_list[:k]\n",
    "    \n",
    "    flags = np.isin(bought_list, recommended_list)\n",
    "    \n",
    "    precision = flags.sum() / len(recommended_list)\n",
    "    \n",
    "    return precision"
   ]
  },
  {
   "cell_type": "code",
   "execution_count": 486,
   "metadata": {},
   "outputs": [],
   "source": [
    "def average_precision_at_k(actual_matrix, bought_matrix, k=5):\n",
    "    \n",
    "    rows_count = actual_matrix.shape[0]\n",
    "    precisions_by_row = [precision_at_k(actual_matrix[i], bought_matrix[i], k) for i in range(rows_count)]\n",
    "    precisions_mean = np.mean(precisions_by_row)\n",
    "\n",
    "    return precisions_mean"
   ]
  },
  {
   "cell_type": "code",
   "execution_count": 487,
   "metadata": {
    "tags": []
   },
   "outputs": [
    {
     "output_type": "stream",
     "name": "stdout",
     "text": "weighted_random_recommendation      0.0196 %\nrandom_recommendation               0.0000 %\npopular_recommendation              2.7138 %\nitemitem                            0.7476 %\ncosine                              0.7158 %\ntfidf                               0.7582 %\nown_purchases                       2.7016 %\n"
    }
   ],
   "source": [
    "# все ранее расчитанные алгоритмы\n",
    "columns = result.columns.drop(['user_id', 'actual'])\n",
    "\n",
    "for column in columns:\n",
    "    precisions_mean = average_precision_at_k(result.actual, result[column], k=5)\n",
    "    print('{:35} {:.4f} %'.format(column, precisions_mean * 100))"
   ]
  },
  {
   "cell_type": "markdown",
   "metadata": {},
   "source": [
    "Наилучшее качество показывает бейзлайн алгоритм рекомендации товаров по популярности. Этот алгоритм не зависит от пользователя и рекомендует всем одни и те же товары. \n",
    "\n",
    "Алгоритм рекомендации случайного товара показал нулевую точность, а аналогичный алгоритм с учетом весов товаров по объемам продаж дал уже не нулевой результат.  "
   ]
  },
  {
   "cell_type": "markdown",
   "metadata": {},
   "source": [
    "### Задание 3*. Улучшение бейзлайнов и ItemItem\n",
    "\n",
    "- Попробуйте улучшить бейзлайны, считая их на топ- {2000, 5000, 10000} товаров. Постройте график зависимости precision@5 от топ-*\n",
    "- Попробуйте улучшить разные варианты ItemItemRecommender, выбирая число соседей $K$. Постройте график зависимости precision@5 от $K$ "
   ]
  },
  {
   "cell_type": "code",
   "execution_count": 488,
   "metadata": {},
   "outputs": [],
   "source": [
    "# your_code"
   ]
  },
  {
   "cell_type": "markdown",
   "metadata": {},
   "source": [
    "#### Тюнинг бейзлайн моделей."
   ]
  },
  {
   "cell_type": "code",
   "execution_count": 489,
   "metadata": {
    "tags": []
   },
   "outputs": [],
   "source": [
    "top_items_count_list = np.arange(1000, 11000, 1000)\n",
    "\n",
    "_data = data.groupby('user_id')['item_id'].unique().reset_index()\n",
    "actual = _data.item_id\n",
    "user_ids = _data.user_id\n",
    "popular_recs = popularity_recommendation(data, n=5)\n",
    "\n",
    "# списки результатов для разных значений топ-k товаров\n",
    "result_random_recommendation = []\n",
    "result_popular_recommendation = []\n",
    "result_weighted_random_recs = []\n",
    "\n",
    "for top_items_count in top_items_count_list:\n",
    "    top_items_ids = data \\\n",
    "        .groupby('item_id')['quantity'] \\\n",
    "        .sum() \\\n",
    "        .reset_index() \\\n",
    "        .sort_values('quantity', ascending=False) \\\n",
    "        .head(top_items_count) \\\n",
    "        .item_id.tolist()\n",
    "\n",
    "    # случайные рекомендации\n",
    "    random_recommendations = [random_recommendation(top_items_ids, n=5) for user_id in user_ids]\n",
    "    precisions_mean = average_precision_at_k(actual, random_recommendations, k=5)\n",
    "    result_random_recommendation.append(precisions_mean)\n",
    "    \n",
    "    # рекомендация топ-5 товаров всем пользователям\n",
    "    popular_recomendations = [popular_recs for user_id in user_ids]\n",
    "    precisions_mean = average_precision_at_k(actual, popular_recomendations, k=5)\n",
    "    result_popular_recommendation.append(precisions_mean)\n",
    "\n",
    "    # взвешенные случайные рекомендации\n",
    "    items_weights = get_weight_matrix(data.loc[data['item_id'].isin(top_items_ids), :])\n",
    "    weighted_random_recommendations = [weighted_random_recommendation(items_weights, n=5) for user_id in user_ids]\n",
    "    precisions_mean = average_precision_at_k(actual, weighted_random_recommendations, k=5)\n",
    "    result_weighted_random_recs.append(precisions_mean)\n"
   ]
  },
  {
   "cell_type": "code",
   "execution_count": 490,
   "metadata": {},
   "outputs": [
    {
     "output_type": "display_data",
     "data": {
      "text/plain": "<Figure size 720x432 with 1 Axes>",
      "image/svg+xml": "<?xml version=\"1.0\" encoding=\"utf-8\" standalone=\"no\"?>\n<!DOCTYPE svg PUBLIC \"-//W3C//DTD SVG 1.1//EN\"\n  \"http://www.w3.org/Graphics/SVG/1.1/DTD/svg11.dtd\">\n<!-- Created with matplotlib (https://matplotlib.org/) -->\n<svg height=\"370.91625pt\" version=\"1.1\" viewBox=\"0 0 608.028125 370.91625\" width=\"608.028125pt\" xmlns=\"http://www.w3.org/2000/svg\" xmlns:xlink=\"http://www.w3.org/1999/xlink\">\n <metadata>\n  <rdf:RDF xmlns:cc=\"http://creativecommons.org/ns#\" xmlns:dc=\"http://purl.org/dc/elements/1.1/\" xmlns:rdf=\"http://www.w3.org/1999/02/22-rdf-syntax-ns#\">\n   <cc:Work>\n    <dc:type rdf:resource=\"http://purl.org/dc/dcmitype/StillImage\"/>\n    <dc:date>2020-09-02T16:40:14.688822</dc:date>\n    <dc:format>image/svg+xml</dc:format>\n    <dc:creator>\n     <cc:Agent>\n      <dc:title>Matplotlib v3.3.1, https://matplotlib.org/</dc:title>\n     </cc:Agent>\n    </dc:creator>\n   </cc:Work>\n  </rdf:RDF>\n </metadata>\n <defs>\n  <style type=\"text/css\">*{stroke-linecap:butt;stroke-linejoin:round;}</style>\n </defs>\n <g id=\"figure_1\">\n  <g id=\"patch_1\">\n   <path d=\"M 0 370.91625 \nL 608.028125 370.91625 \nL 608.028125 0 \nL 0 0 \nz\n\" style=\"fill:none;\"/>\n  </g>\n  <g id=\"axes_1\">\n   <g id=\"patch_2\">\n    <path d=\"M 42.828125 333.36 \nL 600.828125 333.36 \nL 600.828125 7.2 \nL 42.828125 7.2 \nz\n\" style=\"fill:#ffffff;\"/>\n   </g>\n   <g id=\"matplotlib.axis_1\">\n    <g id=\"xtick_1\">\n     <g id=\"line2d_1\">\n      <defs>\n       <path d=\"M 0 0 \nL 0 3.5 \n\" id=\"m0e515ef883\" style=\"stroke:#000000;stroke-width:0.8;\"/>\n      </defs>\n      <g>\n       <use style=\"stroke:#000000;stroke-width:0.8;\" x=\"124.555398\" xlink:href=\"#m0e515ef883\" y=\"333.36\"/>\n      </g>\n     </g>\n     <g id=\"text_1\">\n      <!-- 2000 -->\n      <g transform=\"translate(111.830398 347.958438)scale(0.1 -0.1)\">\n       <defs>\n        <path d=\"M 19.1875 8.296875 \nL 53.609375 8.296875 \nL 53.609375 0 \nL 7.328125 0 \nL 7.328125 8.296875 \nQ 12.9375 14.109375 22.625 23.890625 \nQ 32.328125 33.6875 34.8125 36.53125 \nQ 39.546875 41.84375 41.421875 45.53125 \nQ 43.3125 49.21875 43.3125 52.78125 \nQ 43.3125 58.59375 39.234375 62.25 \nQ 35.15625 65.921875 28.609375 65.921875 \nQ 23.96875 65.921875 18.8125 64.3125 \nQ 13.671875 62.703125 7.8125 59.421875 \nL 7.8125 69.390625 \nQ 13.765625 71.78125 18.9375 73 \nQ 24.125 74.21875 28.421875 74.21875 \nQ 39.75 74.21875 46.484375 68.546875 \nQ 53.21875 62.890625 53.21875 53.421875 \nQ 53.21875 48.921875 51.53125 44.890625 \nQ 49.859375 40.875 45.40625 35.40625 \nQ 44.1875 33.984375 37.640625 27.21875 \nQ 31.109375 20.453125 19.1875 8.296875 \nz\n\" id=\"DejaVuSans-50\"/>\n        <path d=\"M 31.78125 66.40625 \nQ 24.171875 66.40625 20.328125 58.90625 \nQ 16.5 51.421875 16.5 36.375 \nQ 16.5 21.390625 20.328125 13.890625 \nQ 24.171875 6.390625 31.78125 6.390625 \nQ 39.453125 6.390625 43.28125 13.890625 \nQ 47.125 21.390625 47.125 36.375 \nQ 47.125 51.421875 43.28125 58.90625 \nQ 39.453125 66.40625 31.78125 66.40625 \nz\nM 31.78125 74.21875 \nQ 44.046875 74.21875 50.515625 64.515625 \nQ 56.984375 54.828125 56.984375 36.375 \nQ 56.984375 17.96875 50.515625 8.265625 \nQ 44.046875 -1.421875 31.78125 -1.421875 \nQ 19.53125 -1.421875 13.0625 8.265625 \nQ 6.59375 17.96875 6.59375 36.375 \nQ 6.59375 54.828125 13.0625 64.515625 \nQ 19.53125 74.21875 31.78125 74.21875 \nz\n\" id=\"DejaVuSans-48\"/>\n       </defs>\n       <use xlink:href=\"#DejaVuSans-50\"/>\n       <use x=\"63.623047\" xlink:href=\"#DejaVuSans-48\"/>\n       <use x=\"127.246094\" xlink:href=\"#DejaVuSans-48\"/>\n       <use x=\"190.869141\" xlink:href=\"#DejaVuSans-48\"/>\n      </g>\n     </g>\n    </g>\n    <g id=\"xtick_2\">\n     <g id=\"line2d_2\">\n      <g>\n       <use style=\"stroke:#000000;stroke-width:0.8;\" x=\"237.28267\" xlink:href=\"#m0e515ef883\" y=\"333.36\"/>\n      </g>\n     </g>\n     <g id=\"text_2\">\n      <!-- 4000 -->\n      <g transform=\"translate(224.55767 347.958438)scale(0.1 -0.1)\">\n       <defs>\n        <path d=\"M 37.796875 64.3125 \nL 12.890625 25.390625 \nL 37.796875 25.390625 \nz\nM 35.203125 72.90625 \nL 47.609375 72.90625 \nL 47.609375 25.390625 \nL 58.015625 25.390625 \nL 58.015625 17.1875 \nL 47.609375 17.1875 \nL 47.609375 0 \nL 37.796875 0 \nL 37.796875 17.1875 \nL 4.890625 17.1875 \nL 4.890625 26.703125 \nz\n\" id=\"DejaVuSans-52\"/>\n       </defs>\n       <use xlink:href=\"#DejaVuSans-52\"/>\n       <use x=\"63.623047\" xlink:href=\"#DejaVuSans-48\"/>\n       <use x=\"127.246094\" xlink:href=\"#DejaVuSans-48\"/>\n       <use x=\"190.869141\" xlink:href=\"#DejaVuSans-48\"/>\n      </g>\n     </g>\n    </g>\n    <g id=\"xtick_3\">\n     <g id=\"line2d_3\">\n      <g>\n       <use style=\"stroke:#000000;stroke-width:0.8;\" x=\"350.009943\" xlink:href=\"#m0e515ef883\" y=\"333.36\"/>\n      </g>\n     </g>\n     <g id=\"text_3\">\n      <!-- 6000 -->\n      <g transform=\"translate(337.284943 347.958438)scale(0.1 -0.1)\">\n       <defs>\n        <path d=\"M 33.015625 40.375 \nQ 26.375 40.375 22.484375 35.828125 \nQ 18.609375 31.296875 18.609375 23.390625 \nQ 18.609375 15.53125 22.484375 10.953125 \nQ 26.375 6.390625 33.015625 6.390625 \nQ 39.65625 6.390625 43.53125 10.953125 \nQ 47.40625 15.53125 47.40625 23.390625 \nQ 47.40625 31.296875 43.53125 35.828125 \nQ 39.65625 40.375 33.015625 40.375 \nz\nM 52.59375 71.296875 \nL 52.59375 62.3125 \nQ 48.875 64.0625 45.09375 64.984375 \nQ 41.3125 65.921875 37.59375 65.921875 \nQ 27.828125 65.921875 22.671875 59.328125 \nQ 17.53125 52.734375 16.796875 39.40625 \nQ 19.671875 43.65625 24.015625 45.921875 \nQ 28.375 48.1875 33.59375 48.1875 \nQ 44.578125 48.1875 50.953125 41.515625 \nQ 57.328125 34.859375 57.328125 23.390625 \nQ 57.328125 12.15625 50.6875 5.359375 \nQ 44.046875 -1.421875 33.015625 -1.421875 \nQ 20.359375 -1.421875 13.671875 8.265625 \nQ 6.984375 17.96875 6.984375 36.375 \nQ 6.984375 53.65625 15.1875 63.9375 \nQ 23.390625 74.21875 37.203125 74.21875 \nQ 40.921875 74.21875 44.703125 73.484375 \nQ 48.484375 72.75 52.59375 71.296875 \nz\n\" id=\"DejaVuSans-54\"/>\n       </defs>\n       <use xlink:href=\"#DejaVuSans-54\"/>\n       <use x=\"63.623047\" xlink:href=\"#DejaVuSans-48\"/>\n       <use x=\"127.246094\" xlink:href=\"#DejaVuSans-48\"/>\n       <use x=\"190.869141\" xlink:href=\"#DejaVuSans-48\"/>\n      </g>\n     </g>\n    </g>\n    <g id=\"xtick_4\">\n     <g id=\"line2d_4\">\n      <g>\n       <use style=\"stroke:#000000;stroke-width:0.8;\" x=\"462.737216\" xlink:href=\"#m0e515ef883\" y=\"333.36\"/>\n      </g>\n     </g>\n     <g id=\"text_4\">\n      <!-- 8000 -->\n      <g transform=\"translate(450.012216 347.958438)scale(0.1 -0.1)\">\n       <defs>\n        <path d=\"M 31.78125 34.625 \nQ 24.75 34.625 20.71875 30.859375 \nQ 16.703125 27.09375 16.703125 20.515625 \nQ 16.703125 13.921875 20.71875 10.15625 \nQ 24.75 6.390625 31.78125 6.390625 \nQ 38.8125 6.390625 42.859375 10.171875 \nQ 46.921875 13.96875 46.921875 20.515625 \nQ 46.921875 27.09375 42.890625 30.859375 \nQ 38.875 34.625 31.78125 34.625 \nz\nM 21.921875 38.8125 \nQ 15.578125 40.375 12.03125 44.71875 \nQ 8.5 49.078125 8.5 55.328125 \nQ 8.5 64.0625 14.71875 69.140625 \nQ 20.953125 74.21875 31.78125 74.21875 \nQ 42.671875 74.21875 48.875 69.140625 \nQ 55.078125 64.0625 55.078125 55.328125 \nQ 55.078125 49.078125 51.53125 44.71875 \nQ 48 40.375 41.703125 38.8125 \nQ 48.828125 37.15625 52.796875 32.3125 \nQ 56.78125 27.484375 56.78125 20.515625 \nQ 56.78125 9.90625 50.3125 4.234375 \nQ 43.84375 -1.421875 31.78125 -1.421875 \nQ 19.734375 -1.421875 13.25 4.234375 \nQ 6.78125 9.90625 6.78125 20.515625 \nQ 6.78125 27.484375 10.78125 32.3125 \nQ 14.796875 37.15625 21.921875 38.8125 \nz\nM 18.3125 54.390625 \nQ 18.3125 48.734375 21.84375 45.5625 \nQ 25.390625 42.390625 31.78125 42.390625 \nQ 38.140625 42.390625 41.71875 45.5625 \nQ 45.3125 48.734375 45.3125 54.390625 \nQ 45.3125 60.0625 41.71875 63.234375 \nQ 38.140625 66.40625 31.78125 66.40625 \nQ 25.390625 66.40625 21.84375 63.234375 \nQ 18.3125 60.0625 18.3125 54.390625 \nz\n\" id=\"DejaVuSans-56\"/>\n       </defs>\n       <use xlink:href=\"#DejaVuSans-56\"/>\n       <use x=\"63.623047\" xlink:href=\"#DejaVuSans-48\"/>\n       <use x=\"127.246094\" xlink:href=\"#DejaVuSans-48\"/>\n       <use x=\"190.869141\" xlink:href=\"#DejaVuSans-48\"/>\n      </g>\n     </g>\n    </g>\n    <g id=\"xtick_5\">\n     <g id=\"line2d_5\">\n      <g>\n       <use style=\"stroke:#000000;stroke-width:0.8;\" x=\"575.464489\" xlink:href=\"#m0e515ef883\" y=\"333.36\"/>\n      </g>\n     </g>\n     <g id=\"text_5\">\n      <!-- 10000 -->\n      <g transform=\"translate(559.558239 347.958438)scale(0.1 -0.1)\">\n       <defs>\n        <path d=\"M 12.40625 8.296875 \nL 28.515625 8.296875 \nL 28.515625 63.921875 \nL 10.984375 60.40625 \nL 10.984375 69.390625 \nL 28.421875 72.90625 \nL 38.28125 72.90625 \nL 38.28125 8.296875 \nL 54.390625 8.296875 \nL 54.390625 0 \nL 12.40625 0 \nz\n\" id=\"DejaVuSans-49\"/>\n       </defs>\n       <use xlink:href=\"#DejaVuSans-49\"/>\n       <use x=\"63.623047\" xlink:href=\"#DejaVuSans-48\"/>\n       <use x=\"127.246094\" xlink:href=\"#DejaVuSans-48\"/>\n       <use x=\"190.869141\" xlink:href=\"#DejaVuSans-48\"/>\n       <use x=\"254.492188\" xlink:href=\"#DejaVuSans-48\"/>\n      </g>\n     </g>\n    </g>\n    <g id=\"text_6\">\n     <!-- top-k items -->\n     <g transform=\"translate(293.445312 361.636562)scale(0.1 -0.1)\">\n      <defs>\n       <path d=\"M 18.3125 70.21875 \nL 18.3125 54.6875 \nL 36.8125 54.6875 \nL 36.8125 47.703125 \nL 18.3125 47.703125 \nL 18.3125 18.015625 \nQ 18.3125 11.328125 20.140625 9.421875 \nQ 21.96875 7.515625 27.59375 7.515625 \nL 36.8125 7.515625 \nL 36.8125 0 \nL 27.59375 0 \nQ 17.1875 0 13.234375 3.875 \nQ 9.28125 7.765625 9.28125 18.015625 \nL 9.28125 47.703125 \nL 2.6875 47.703125 \nL 2.6875 54.6875 \nL 9.28125 54.6875 \nL 9.28125 70.21875 \nz\n\" id=\"DejaVuSans-116\"/>\n       <path d=\"M 30.609375 48.390625 \nQ 23.390625 48.390625 19.1875 42.75 \nQ 14.984375 37.109375 14.984375 27.296875 \nQ 14.984375 17.484375 19.15625 11.84375 \nQ 23.34375 6.203125 30.609375 6.203125 \nQ 37.796875 6.203125 41.984375 11.859375 \nQ 46.1875 17.53125 46.1875 27.296875 \nQ 46.1875 37.015625 41.984375 42.703125 \nQ 37.796875 48.390625 30.609375 48.390625 \nz\nM 30.609375 56 \nQ 42.328125 56 49.015625 48.375 \nQ 55.71875 40.765625 55.71875 27.296875 \nQ 55.71875 13.875 49.015625 6.21875 \nQ 42.328125 -1.421875 30.609375 -1.421875 \nQ 18.84375 -1.421875 12.171875 6.21875 \nQ 5.515625 13.875 5.515625 27.296875 \nQ 5.515625 40.765625 12.171875 48.375 \nQ 18.84375 56 30.609375 56 \nz\n\" id=\"DejaVuSans-111\"/>\n       <path d=\"M 18.109375 8.203125 \nL 18.109375 -20.796875 \nL 9.078125 -20.796875 \nL 9.078125 54.6875 \nL 18.109375 54.6875 \nL 18.109375 46.390625 \nQ 20.953125 51.265625 25.265625 53.625 \nQ 29.59375 56 35.59375 56 \nQ 45.5625 56 51.78125 48.09375 \nQ 58.015625 40.1875 58.015625 27.296875 \nQ 58.015625 14.40625 51.78125 6.484375 \nQ 45.5625 -1.421875 35.59375 -1.421875 \nQ 29.59375 -1.421875 25.265625 0.953125 \nQ 20.953125 3.328125 18.109375 8.203125 \nz\nM 48.6875 27.296875 \nQ 48.6875 37.203125 44.609375 42.84375 \nQ 40.53125 48.484375 33.40625 48.484375 \nQ 26.265625 48.484375 22.1875 42.84375 \nQ 18.109375 37.203125 18.109375 27.296875 \nQ 18.109375 17.390625 22.1875 11.75 \nQ 26.265625 6.109375 33.40625 6.109375 \nQ 40.53125 6.109375 44.609375 11.75 \nQ 48.6875 17.390625 48.6875 27.296875 \nz\n\" id=\"DejaVuSans-112\"/>\n       <path d=\"M 4.890625 31.390625 \nL 31.203125 31.390625 \nL 31.203125 23.390625 \nL 4.890625 23.390625 \nz\n\" id=\"DejaVuSans-45\"/>\n       <path d=\"M 9.078125 75.984375 \nL 18.109375 75.984375 \nL 18.109375 31.109375 \nL 44.921875 54.6875 \nL 56.390625 54.6875 \nL 27.390625 29.109375 \nL 57.625 0 \nL 45.90625 0 \nL 18.109375 26.703125 \nL 18.109375 0 \nL 9.078125 0 \nz\n\" id=\"DejaVuSans-107\"/>\n       <path id=\"DejaVuSans-32\"/>\n       <path d=\"M 9.421875 54.6875 \nL 18.40625 54.6875 \nL 18.40625 0 \nL 9.421875 0 \nz\nM 9.421875 75.984375 \nL 18.40625 75.984375 \nL 18.40625 64.59375 \nL 9.421875 64.59375 \nz\n\" id=\"DejaVuSans-105\"/>\n       <path d=\"M 56.203125 29.59375 \nL 56.203125 25.203125 \nL 14.890625 25.203125 \nQ 15.484375 15.921875 20.484375 11.0625 \nQ 25.484375 6.203125 34.421875 6.203125 \nQ 39.59375 6.203125 44.453125 7.46875 \nQ 49.3125 8.734375 54.109375 11.28125 \nL 54.109375 2.78125 \nQ 49.265625 0.734375 44.1875 -0.34375 \nQ 39.109375 -1.421875 33.890625 -1.421875 \nQ 20.796875 -1.421875 13.15625 6.1875 \nQ 5.515625 13.8125 5.515625 26.8125 \nQ 5.515625 40.234375 12.765625 48.109375 \nQ 20.015625 56 32.328125 56 \nQ 43.359375 56 49.78125 48.890625 \nQ 56.203125 41.796875 56.203125 29.59375 \nz\nM 47.21875 32.234375 \nQ 47.125 39.59375 43.09375 43.984375 \nQ 39.0625 48.390625 32.421875 48.390625 \nQ 24.90625 48.390625 20.390625 44.140625 \nQ 15.875 39.890625 15.1875 32.171875 \nz\n\" id=\"DejaVuSans-101\"/>\n       <path d=\"M 52 44.1875 \nQ 55.375 50.25 60.0625 53.125 \nQ 64.75 56 71.09375 56 \nQ 79.640625 56 84.28125 50.015625 \nQ 88.921875 44.046875 88.921875 33.015625 \nL 88.921875 0 \nL 79.890625 0 \nL 79.890625 32.71875 \nQ 79.890625 40.578125 77.09375 44.375 \nQ 74.3125 48.1875 68.609375 48.1875 \nQ 61.625 48.1875 57.5625 43.546875 \nQ 53.515625 38.921875 53.515625 30.90625 \nL 53.515625 0 \nL 44.484375 0 \nL 44.484375 32.71875 \nQ 44.484375 40.625 41.703125 44.40625 \nQ 38.921875 48.1875 33.109375 48.1875 \nQ 26.21875 48.1875 22.15625 43.53125 \nQ 18.109375 38.875 18.109375 30.90625 \nL 18.109375 0 \nL 9.078125 0 \nL 9.078125 54.6875 \nL 18.109375 54.6875 \nL 18.109375 46.1875 \nQ 21.1875 51.21875 25.484375 53.609375 \nQ 29.78125 56 35.6875 56 \nQ 41.65625 56 45.828125 52.96875 \nQ 50 49.953125 52 44.1875 \nz\n\" id=\"DejaVuSans-109\"/>\n       <path d=\"M 44.28125 53.078125 \nL 44.28125 44.578125 \nQ 40.484375 46.53125 36.375 47.5 \nQ 32.28125 48.484375 27.875 48.484375 \nQ 21.1875 48.484375 17.84375 46.4375 \nQ 14.5 44.390625 14.5 40.28125 \nQ 14.5 37.15625 16.890625 35.375 \nQ 19.28125 33.59375 26.515625 31.984375 \nL 29.59375 31.296875 \nQ 39.15625 29.25 43.1875 25.515625 \nQ 47.21875 21.78125 47.21875 15.09375 \nQ 47.21875 7.46875 41.1875 3.015625 \nQ 35.15625 -1.421875 24.609375 -1.421875 \nQ 20.21875 -1.421875 15.453125 -0.5625 \nQ 10.6875 0.296875 5.421875 2 \nL 5.421875 11.28125 \nQ 10.40625 8.6875 15.234375 7.390625 \nQ 20.0625 6.109375 24.8125 6.109375 \nQ 31.15625 6.109375 34.5625 8.28125 \nQ 37.984375 10.453125 37.984375 14.40625 \nQ 37.984375 18.0625 35.515625 20.015625 \nQ 33.0625 21.96875 24.703125 23.78125 \nL 21.578125 24.515625 \nQ 13.234375 26.265625 9.515625 29.90625 \nQ 5.8125 33.546875 5.8125 39.890625 \nQ 5.8125 47.609375 11.28125 51.796875 \nQ 16.75 56 26.8125 56 \nQ 31.78125 56 36.171875 55.265625 \nQ 40.578125 54.546875 44.28125 53.078125 \nz\n\" id=\"DejaVuSans-115\"/>\n      </defs>\n      <use xlink:href=\"#DejaVuSans-116\"/>\n      <use x=\"39.208984\" xlink:href=\"#DejaVuSans-111\"/>\n      <use x=\"100.390625\" xlink:href=\"#DejaVuSans-112\"/>\n      <use x=\"163.867188\" xlink:href=\"#DejaVuSans-45\"/>\n      <use x=\"199.951172\" xlink:href=\"#DejaVuSans-107\"/>\n      <use x=\"257.861328\" xlink:href=\"#DejaVuSans-32\"/>\n      <use x=\"289.648438\" xlink:href=\"#DejaVuSans-105\"/>\n      <use x=\"317.431641\" xlink:href=\"#DejaVuSans-116\"/>\n      <use x=\"356.640625\" xlink:href=\"#DejaVuSans-101\"/>\n      <use x=\"418.164062\" xlink:href=\"#DejaVuSans-109\"/>\n      <use x=\"515.576172\" xlink:href=\"#DejaVuSans-115\"/>\n     </g>\n    </g>\n   </g>\n   <g id=\"matplotlib.axis_2\">\n    <g id=\"ytick_1\">\n     <g id=\"line2d_6\">\n      <defs>\n       <path d=\"M 0 0 \nL -3.5 0 \n\" id=\"md9c278d35a\" style=\"stroke:#000000;stroke-width:0.8;\"/>\n      </defs>\n      <g>\n       <use style=\"stroke:#000000;stroke-width:0.8;\" x=\"42.828125\" xlink:href=\"#md9c278d35a\" y=\"323.476364\"/>\n      </g>\n     </g>\n     <g id=\"text_7\">\n      <!-- 0.000 -->\n      <g transform=\"translate(7.2 327.275582)scale(0.1 -0.1)\">\n       <defs>\n        <path d=\"M 10.6875 12.40625 \nL 21 12.40625 \nL 21 0 \nL 10.6875 0 \nz\n\" id=\"DejaVuSans-46\"/>\n       </defs>\n       <use xlink:href=\"#DejaVuSans-48\"/>\n       <use x=\"63.623047\" xlink:href=\"#DejaVuSans-46\"/>\n       <use x=\"95.410156\" xlink:href=\"#DejaVuSans-48\"/>\n       <use x=\"159.033203\" xlink:href=\"#DejaVuSans-48\"/>\n       <use x=\"222.65625\" xlink:href=\"#DejaVuSans-48\"/>\n      </g>\n     </g>\n    </g>\n    <g id=\"ytick_2\">\n     <g id=\"line2d_7\">\n      <g>\n       <use style=\"stroke:#000000;stroke-width:0.8;\" x=\"42.828125\" xlink:href=\"#md9c278d35a\" y=\"282.311018\"/>\n      </g>\n     </g>\n     <g id=\"text_8\">\n      <!-- 0.002 -->\n      <g transform=\"translate(7.2 286.110237)scale(0.1 -0.1)\">\n       <use xlink:href=\"#DejaVuSans-48\"/>\n       <use x=\"63.623047\" xlink:href=\"#DejaVuSans-46\"/>\n       <use x=\"95.410156\" xlink:href=\"#DejaVuSans-48\"/>\n       <use x=\"159.033203\" xlink:href=\"#DejaVuSans-48\"/>\n       <use x=\"222.65625\" xlink:href=\"#DejaVuSans-50\"/>\n      </g>\n     </g>\n    </g>\n    <g id=\"ytick_3\">\n     <g id=\"line2d_8\">\n      <g>\n       <use style=\"stroke:#000000;stroke-width:0.8;\" x=\"42.828125\" xlink:href=\"#md9c278d35a\" y=\"241.145673\"/>\n      </g>\n     </g>\n     <g id=\"text_9\">\n      <!-- 0.004 -->\n      <g transform=\"translate(7.2 244.944891)scale(0.1 -0.1)\">\n       <use xlink:href=\"#DejaVuSans-48\"/>\n       <use x=\"63.623047\" xlink:href=\"#DejaVuSans-46\"/>\n       <use x=\"95.410156\" xlink:href=\"#DejaVuSans-48\"/>\n       <use x=\"159.033203\" xlink:href=\"#DejaVuSans-48\"/>\n       <use x=\"222.65625\" xlink:href=\"#DejaVuSans-52\"/>\n      </g>\n     </g>\n    </g>\n    <g id=\"ytick_4\">\n     <g id=\"line2d_9\">\n      <g>\n       <use style=\"stroke:#000000;stroke-width:0.8;\" x=\"42.828125\" xlink:href=\"#md9c278d35a\" y=\"199.980327\"/>\n      </g>\n     </g>\n     <g id=\"text_10\">\n      <!-- 0.006 -->\n      <g transform=\"translate(7.2 203.779546)scale(0.1 -0.1)\">\n       <use xlink:href=\"#DejaVuSans-48\"/>\n       <use x=\"63.623047\" xlink:href=\"#DejaVuSans-46\"/>\n       <use x=\"95.410156\" xlink:href=\"#DejaVuSans-48\"/>\n       <use x=\"159.033203\" xlink:href=\"#DejaVuSans-48\"/>\n       <use x=\"222.65625\" xlink:href=\"#DejaVuSans-54\"/>\n      </g>\n     </g>\n    </g>\n    <g id=\"ytick_5\">\n     <g id=\"line2d_10\">\n      <g>\n       <use style=\"stroke:#000000;stroke-width:0.8;\" x=\"42.828125\" xlink:href=\"#md9c278d35a\" y=\"158.814982\"/>\n      </g>\n     </g>\n     <g id=\"text_11\">\n      <!-- 0.008 -->\n      <g transform=\"translate(7.2 162.614201)scale(0.1 -0.1)\">\n       <use xlink:href=\"#DejaVuSans-48\"/>\n       <use x=\"63.623047\" xlink:href=\"#DejaVuSans-46\"/>\n       <use x=\"95.410156\" xlink:href=\"#DejaVuSans-48\"/>\n       <use x=\"159.033203\" xlink:href=\"#DejaVuSans-48\"/>\n       <use x=\"222.65625\" xlink:href=\"#DejaVuSans-56\"/>\n      </g>\n     </g>\n    </g>\n    <g id=\"ytick_6\">\n     <g id=\"line2d_11\">\n      <g>\n       <use style=\"stroke:#000000;stroke-width:0.8;\" x=\"42.828125\" xlink:href=\"#md9c278d35a\" y=\"117.649636\"/>\n      </g>\n     </g>\n     <g id=\"text_12\">\n      <!-- 0.010 -->\n      <g transform=\"translate(7.2 121.448855)scale(0.1 -0.1)\">\n       <use xlink:href=\"#DejaVuSans-48\"/>\n       <use x=\"63.623047\" xlink:href=\"#DejaVuSans-46\"/>\n       <use x=\"95.410156\" xlink:href=\"#DejaVuSans-48\"/>\n       <use x=\"159.033203\" xlink:href=\"#DejaVuSans-49\"/>\n       <use x=\"222.65625\" xlink:href=\"#DejaVuSans-48\"/>\n      </g>\n     </g>\n    </g>\n    <g id=\"ytick_7\">\n     <g id=\"line2d_12\">\n      <g>\n       <use style=\"stroke:#000000;stroke-width:0.8;\" x=\"42.828125\" xlink:href=\"#md9c278d35a\" y=\"76.484291\"/>\n      </g>\n     </g>\n     <g id=\"text_13\">\n      <!-- 0.012 -->\n      <g transform=\"translate(7.2 80.28351)scale(0.1 -0.1)\">\n       <use xlink:href=\"#DejaVuSans-48\"/>\n       <use x=\"63.623047\" xlink:href=\"#DejaVuSans-46\"/>\n       <use x=\"95.410156\" xlink:href=\"#DejaVuSans-48\"/>\n       <use x=\"159.033203\" xlink:href=\"#DejaVuSans-49\"/>\n       <use x=\"222.65625\" xlink:href=\"#DejaVuSans-50\"/>\n      </g>\n     </g>\n    </g>\n    <g id=\"ytick_8\">\n     <g id=\"line2d_13\">\n      <g>\n       <use style=\"stroke:#000000;stroke-width:0.8;\" x=\"42.828125\" xlink:href=\"#md9c278d35a\" y=\"35.318945\"/>\n      </g>\n     </g>\n     <g id=\"text_14\">\n      <!-- 0.014 -->\n      <g transform=\"translate(7.2 39.118164)scale(0.1 -0.1)\">\n       <use xlink:href=\"#DejaVuSans-48\"/>\n       <use x=\"63.623047\" xlink:href=\"#DejaVuSans-46\"/>\n       <use x=\"95.410156\" xlink:href=\"#DejaVuSans-48\"/>\n       <use x=\"159.033203\" xlink:href=\"#DejaVuSans-49\"/>\n       <use x=\"222.65625\" xlink:href=\"#DejaVuSans-52\"/>\n      </g>\n     </g>\n    </g>\n   </g>\n   <g id=\"line2d_14\">\n    <path clip-path=\"url(#peebd848bbe)\" d=\"M 68.191761 282.294545 \nL 124.555398 300.414545 \nL 180.919034 313.592727 \nL 237.28267 318.534545 \nL 293.646307 315.24 \nL 350.009943 311.945455 \nL 406.37358 313.592727 \nL 462.737216 311.945455 \nL 519.100852 315.24 \nL 575.464489 316.887273 \n\" style=\"fill:none;stroke:#1f77b4;stroke-linecap:square;stroke-width:1.5;\"/>\n   </g>\n   <g id=\"line2d_15\">\n    <path clip-path=\"url(#peebd848bbe)\" d=\"M 68.191761 22.025455 \nL 124.555398 22.025455 \nL 180.919034 22.025455 \nL 237.28267 22.025455 \nL 293.646307 22.025455 \nL 350.009943 22.025455 \nL 406.37358 22.025455 \nL 462.737216 22.025455 \nL 519.100852 22.025455 \nL 575.464489 22.025455 \n\" style=\"fill:none;stroke:#ff7f0e;stroke-linecap:square;stroke-width:1.5;\"/>\n   </g>\n   <g id=\"line2d_16\">\n    <path clip-path=\"url(#peebd848bbe)\" d=\"M 68.191761 292.178182 \nL 124.555398 307.003636 \nL 180.919034 313.592727 \nL 237.28267 308.650909 \nL 293.646307 310.298182 \nL 350.009943 308.650909 \nL 406.37358 313.592727 \nL 462.737216 315.24 \nL 519.100852 316.887273 \nL 575.464489 315.24 \n\" style=\"fill:none;stroke:#2ca02c;stroke-linecap:square;stroke-width:1.5;\"/>\n   </g>\n   <g id=\"patch_3\">\n    <path d=\"M 42.828125 333.36 \nL 42.828125 7.2 \n\" style=\"fill:none;stroke:#000000;stroke-linecap:square;stroke-linejoin:miter;stroke-width:0.8;\"/>\n   </g>\n   <g id=\"patch_4\">\n    <path d=\"M 600.828125 333.36 \nL 600.828125 7.2 \n\" style=\"fill:none;stroke:#000000;stroke-linecap:square;stroke-linejoin:miter;stroke-width:0.8;\"/>\n   </g>\n   <g id=\"patch_5\">\n    <path d=\"M 42.828125 333.36 \nL 600.828125 333.36 \n\" style=\"fill:none;stroke:#000000;stroke-linecap:square;stroke-linejoin:miter;stroke-width:0.8;\"/>\n   </g>\n   <g id=\"patch_6\">\n    <path d=\"M 42.828125 7.2 \nL 600.828125 7.2 \n\" style=\"fill:none;stroke:#000000;stroke-linecap:square;stroke-linejoin:miter;stroke-width:0.8;\"/>\n   </g>\n   <g id=\"legend_1\">\n    <g id=\"patch_7\">\n     <path d=\"M 381.476562 193.797187 \nL 593.828125 193.797187 \nQ 595.828125 193.797187 595.828125 191.797187 \nL 595.828125 148.762812 \nQ 595.828125 146.762812 593.828125 146.762812 \nL 381.476562 146.762812 \nQ 379.476562 146.762812 379.476562 148.762812 \nL 379.476562 191.797187 \nQ 379.476562 193.797187 381.476562 193.797187 \nz\n\" style=\"fill:#ffffff;opacity:0.8;stroke:#cccccc;stroke-linejoin:miter;\"/>\n    </g>\n    <g id=\"line2d_17\">\n     <path d=\"M 383.476562 154.86125 \nL 403.476562 154.86125 \n\" style=\"fill:none;stroke:#1f77b4;stroke-linecap:square;stroke-width:1.5;\"/>\n    </g>\n    <g id=\"line2d_18\"/>\n    <g id=\"text_15\">\n     <!-- Random recommendation -->\n     <g transform=\"translate(411.476562 158.36125)scale(0.1 -0.1)\">\n      <defs>\n       <path d=\"M 44.390625 34.1875 \nQ 47.5625 33.109375 50.5625 29.59375 \nQ 53.5625 26.078125 56.59375 19.921875 \nL 66.609375 0 \nL 56 0 \nL 46.6875 18.703125 \nQ 43.0625 26.03125 39.671875 28.421875 \nQ 36.28125 30.8125 30.421875 30.8125 \nL 19.671875 30.8125 \nL 19.671875 0 \nL 9.8125 0 \nL 9.8125 72.90625 \nL 32.078125 72.90625 \nQ 44.578125 72.90625 50.734375 67.671875 \nQ 56.890625 62.453125 56.890625 51.90625 \nQ 56.890625 45.015625 53.6875 40.46875 \nQ 50.484375 35.9375 44.390625 34.1875 \nz\nM 19.671875 64.796875 \nL 19.671875 38.921875 \nL 32.078125 38.921875 \nQ 39.203125 38.921875 42.84375 42.21875 \nQ 46.484375 45.515625 46.484375 51.90625 \nQ 46.484375 58.296875 42.84375 61.546875 \nQ 39.203125 64.796875 32.078125 64.796875 \nz\n\" id=\"DejaVuSans-82\"/>\n       <path d=\"M 34.28125 27.484375 \nQ 23.390625 27.484375 19.1875 25 \nQ 14.984375 22.515625 14.984375 16.5 \nQ 14.984375 11.71875 18.140625 8.90625 \nQ 21.296875 6.109375 26.703125 6.109375 \nQ 34.1875 6.109375 38.703125 11.40625 \nQ 43.21875 16.703125 43.21875 25.484375 \nL 43.21875 27.484375 \nz\nM 52.203125 31.203125 \nL 52.203125 0 \nL 43.21875 0 \nL 43.21875 8.296875 \nQ 40.140625 3.328125 35.546875 0.953125 \nQ 30.953125 -1.421875 24.3125 -1.421875 \nQ 15.921875 -1.421875 10.953125 3.296875 \nQ 6 8.015625 6 15.921875 \nQ 6 25.140625 12.171875 29.828125 \nQ 18.359375 34.515625 30.609375 34.515625 \nL 43.21875 34.515625 \nL 43.21875 35.40625 \nQ 43.21875 41.609375 39.140625 45 \nQ 35.0625 48.390625 27.6875 48.390625 \nQ 23 48.390625 18.546875 47.265625 \nQ 14.109375 46.140625 10.015625 43.890625 \nL 10.015625 52.203125 \nQ 14.9375 54.109375 19.578125 55.046875 \nQ 24.21875 56 28.609375 56 \nQ 40.484375 56 46.34375 49.84375 \nQ 52.203125 43.703125 52.203125 31.203125 \nz\n\" id=\"DejaVuSans-97\"/>\n       <path d=\"M 54.890625 33.015625 \nL 54.890625 0 \nL 45.90625 0 \nL 45.90625 32.71875 \nQ 45.90625 40.484375 42.875 44.328125 \nQ 39.84375 48.1875 33.796875 48.1875 \nQ 26.515625 48.1875 22.3125 43.546875 \nQ 18.109375 38.921875 18.109375 30.90625 \nL 18.109375 0 \nL 9.078125 0 \nL 9.078125 54.6875 \nL 18.109375 54.6875 \nL 18.109375 46.1875 \nQ 21.34375 51.125 25.703125 53.5625 \nQ 30.078125 56 35.796875 56 \nQ 45.21875 56 50.046875 50.171875 \nQ 54.890625 44.34375 54.890625 33.015625 \nz\n\" id=\"DejaVuSans-110\"/>\n       <path d=\"M 45.40625 46.390625 \nL 45.40625 75.984375 \nL 54.390625 75.984375 \nL 54.390625 0 \nL 45.40625 0 \nL 45.40625 8.203125 \nQ 42.578125 3.328125 38.25 0.953125 \nQ 33.9375 -1.421875 27.875 -1.421875 \nQ 17.96875 -1.421875 11.734375 6.484375 \nQ 5.515625 14.40625 5.515625 27.296875 \nQ 5.515625 40.1875 11.734375 48.09375 \nQ 17.96875 56 27.875 56 \nQ 33.9375 56 38.25 53.625 \nQ 42.578125 51.265625 45.40625 46.390625 \nz\nM 14.796875 27.296875 \nQ 14.796875 17.390625 18.875 11.75 \nQ 22.953125 6.109375 30.078125 6.109375 \nQ 37.203125 6.109375 41.296875 11.75 \nQ 45.40625 17.390625 45.40625 27.296875 \nQ 45.40625 37.203125 41.296875 42.84375 \nQ 37.203125 48.484375 30.078125 48.484375 \nQ 22.953125 48.484375 18.875 42.84375 \nQ 14.796875 37.203125 14.796875 27.296875 \nz\n\" id=\"DejaVuSans-100\"/>\n       <path d=\"M 41.109375 46.296875 \nQ 39.59375 47.171875 37.8125 47.578125 \nQ 36.03125 48 33.890625 48 \nQ 26.265625 48 22.1875 43.046875 \nQ 18.109375 38.09375 18.109375 28.8125 \nL 18.109375 0 \nL 9.078125 0 \nL 9.078125 54.6875 \nL 18.109375 54.6875 \nL 18.109375 46.1875 \nQ 20.953125 51.171875 25.484375 53.578125 \nQ 30.03125 56 36.53125 56 \nQ 37.453125 56 38.578125 55.875 \nQ 39.703125 55.765625 41.0625 55.515625 \nz\n\" id=\"DejaVuSans-114\"/>\n       <path d=\"M 48.78125 52.59375 \nL 48.78125 44.1875 \nQ 44.96875 46.296875 41.140625 47.34375 \nQ 37.3125 48.390625 33.40625 48.390625 \nQ 24.65625 48.390625 19.8125 42.84375 \nQ 14.984375 37.3125 14.984375 27.296875 \nQ 14.984375 17.28125 19.8125 11.734375 \nQ 24.65625 6.203125 33.40625 6.203125 \nQ 37.3125 6.203125 41.140625 7.25 \nQ 44.96875 8.296875 48.78125 10.40625 \nL 48.78125 2.09375 \nQ 45.015625 0.34375 40.984375 -0.53125 \nQ 36.96875 -1.421875 32.421875 -1.421875 \nQ 20.0625 -1.421875 12.78125 6.34375 \nQ 5.515625 14.109375 5.515625 27.296875 \nQ 5.515625 40.671875 12.859375 48.328125 \nQ 20.21875 56 33.015625 56 \nQ 37.15625 56 41.109375 55.140625 \nQ 45.0625 54.296875 48.78125 52.59375 \nz\n\" id=\"DejaVuSans-99\"/>\n      </defs>\n      <use xlink:href=\"#DejaVuSans-82\"/>\n      <use x=\"67.232422\" xlink:href=\"#DejaVuSans-97\"/>\n      <use x=\"128.511719\" xlink:href=\"#DejaVuSans-110\"/>\n      <use x=\"191.890625\" xlink:href=\"#DejaVuSans-100\"/>\n      <use x=\"255.367188\" xlink:href=\"#DejaVuSans-111\"/>\n      <use x=\"316.548828\" xlink:href=\"#DejaVuSans-109\"/>\n      <use x=\"413.960938\" xlink:href=\"#DejaVuSans-32\"/>\n      <use x=\"445.748047\" xlink:href=\"#DejaVuSans-114\"/>\n      <use x=\"484.611328\" xlink:href=\"#DejaVuSans-101\"/>\n      <use x=\"546.134766\" xlink:href=\"#DejaVuSans-99\"/>\n      <use x=\"601.115234\" xlink:href=\"#DejaVuSans-111\"/>\n      <use x=\"662.296875\" xlink:href=\"#DejaVuSans-109\"/>\n      <use x=\"759.708984\" xlink:href=\"#DejaVuSans-109\"/>\n      <use x=\"857.121094\" xlink:href=\"#DejaVuSans-101\"/>\n      <use x=\"918.644531\" xlink:href=\"#DejaVuSans-110\"/>\n      <use x=\"982.023438\" xlink:href=\"#DejaVuSans-100\"/>\n      <use x=\"1045.5\" xlink:href=\"#DejaVuSans-97\"/>\n      <use x=\"1106.779297\" xlink:href=\"#DejaVuSans-116\"/>\n      <use x=\"1145.988281\" xlink:href=\"#DejaVuSans-105\"/>\n      <use x=\"1173.771484\" xlink:href=\"#DejaVuSans-111\"/>\n      <use x=\"1234.953125\" xlink:href=\"#DejaVuSans-110\"/>\n     </g>\n    </g>\n    <g id=\"line2d_19\">\n     <path d=\"M 383.476562 169.539375 \nL 403.476562 169.539375 \n\" style=\"fill:none;stroke:#ff7f0e;stroke-linecap:square;stroke-width:1.5;\"/>\n    </g>\n    <g id=\"line2d_20\"/>\n    <g id=\"text_16\">\n     <!-- Popularity-based recommendation -->\n     <g transform=\"translate(411.476562 173.039375)scale(0.1 -0.1)\">\n      <defs>\n       <path d=\"M 19.671875 64.796875 \nL 19.671875 37.40625 \nL 32.078125 37.40625 \nQ 38.96875 37.40625 42.71875 40.96875 \nQ 46.484375 44.53125 46.484375 51.125 \nQ 46.484375 57.671875 42.71875 61.234375 \nQ 38.96875 64.796875 32.078125 64.796875 \nz\nM 9.8125 72.90625 \nL 32.078125 72.90625 \nQ 44.34375 72.90625 50.609375 67.359375 \nQ 56.890625 61.8125 56.890625 51.125 \nQ 56.890625 40.328125 50.609375 34.8125 \nQ 44.34375 29.296875 32.078125 29.296875 \nL 19.671875 29.296875 \nL 19.671875 0 \nL 9.8125 0 \nz\n\" id=\"DejaVuSans-80\"/>\n       <path d=\"M 8.5 21.578125 \nL 8.5 54.6875 \nL 17.484375 54.6875 \nL 17.484375 21.921875 \nQ 17.484375 14.15625 20.5 10.265625 \nQ 23.53125 6.390625 29.59375 6.390625 \nQ 36.859375 6.390625 41.078125 11.03125 \nQ 45.3125 15.671875 45.3125 23.6875 \nL 45.3125 54.6875 \nL 54.296875 54.6875 \nL 54.296875 0 \nL 45.3125 0 \nL 45.3125 8.40625 \nQ 42.046875 3.421875 37.71875 1 \nQ 33.40625 -1.421875 27.6875 -1.421875 \nQ 18.265625 -1.421875 13.375 4.4375 \nQ 8.5 10.296875 8.5 21.578125 \nz\nM 31.109375 56 \nz\n\" id=\"DejaVuSans-117\"/>\n       <path d=\"M 9.421875 75.984375 \nL 18.40625 75.984375 \nL 18.40625 0 \nL 9.421875 0 \nz\n\" id=\"DejaVuSans-108\"/>\n       <path d=\"M 32.171875 -5.078125 \nQ 28.375 -14.84375 24.75 -17.8125 \nQ 21.140625 -20.796875 15.09375 -20.796875 \nL 7.90625 -20.796875 \nL 7.90625 -13.28125 \nL 13.1875 -13.28125 \nQ 16.890625 -13.28125 18.9375 -11.515625 \nQ 21 -9.765625 23.484375 -3.21875 \nL 25.09375 0.875 \nL 2.984375 54.6875 \nL 12.5 54.6875 \nL 29.59375 11.921875 \nL 46.6875 54.6875 \nL 56.203125 54.6875 \nz\n\" id=\"DejaVuSans-121\"/>\n       <path d=\"M 48.6875 27.296875 \nQ 48.6875 37.203125 44.609375 42.84375 \nQ 40.53125 48.484375 33.40625 48.484375 \nQ 26.265625 48.484375 22.1875 42.84375 \nQ 18.109375 37.203125 18.109375 27.296875 \nQ 18.109375 17.390625 22.1875 11.75 \nQ 26.265625 6.109375 33.40625 6.109375 \nQ 40.53125 6.109375 44.609375 11.75 \nQ 48.6875 17.390625 48.6875 27.296875 \nz\nM 18.109375 46.390625 \nQ 20.953125 51.265625 25.265625 53.625 \nQ 29.59375 56 35.59375 56 \nQ 45.5625 56 51.78125 48.09375 \nQ 58.015625 40.1875 58.015625 27.296875 \nQ 58.015625 14.40625 51.78125 6.484375 \nQ 45.5625 -1.421875 35.59375 -1.421875 \nQ 29.59375 -1.421875 25.265625 0.953125 \nQ 20.953125 3.328125 18.109375 8.203125 \nL 18.109375 0 \nL 9.078125 0 \nL 9.078125 75.984375 \nL 18.109375 75.984375 \nz\n\" id=\"DejaVuSans-98\"/>\n      </defs>\n      <use xlink:href=\"#DejaVuSans-80\"/>\n      <use x=\"56.677734\" xlink:href=\"#DejaVuSans-111\"/>\n      <use x=\"117.859375\" xlink:href=\"#DejaVuSans-112\"/>\n      <use x=\"181.335938\" xlink:href=\"#DejaVuSans-117\"/>\n      <use x=\"244.714844\" xlink:href=\"#DejaVuSans-108\"/>\n      <use x=\"272.498047\" xlink:href=\"#DejaVuSans-97\"/>\n      <use x=\"333.777344\" xlink:href=\"#DejaVuSans-114\"/>\n      <use x=\"374.890625\" xlink:href=\"#DejaVuSans-105\"/>\n      <use x=\"402.673828\" xlink:href=\"#DejaVuSans-116\"/>\n      <use x=\"441.882812\" xlink:href=\"#DejaVuSans-121\"/>\n      <use x=\"499.3125\" xlink:href=\"#DejaVuSans-45\"/>\n      <use x=\"535.396484\" xlink:href=\"#DejaVuSans-98\"/>\n      <use x=\"598.873047\" xlink:href=\"#DejaVuSans-97\"/>\n      <use x=\"660.152344\" xlink:href=\"#DejaVuSans-115\"/>\n      <use x=\"712.251953\" xlink:href=\"#DejaVuSans-101\"/>\n      <use x=\"773.775391\" xlink:href=\"#DejaVuSans-100\"/>\n      <use x=\"837.251953\" xlink:href=\"#DejaVuSans-32\"/>\n      <use x=\"869.039062\" xlink:href=\"#DejaVuSans-114\"/>\n      <use x=\"907.902344\" xlink:href=\"#DejaVuSans-101\"/>\n      <use x=\"969.425781\" xlink:href=\"#DejaVuSans-99\"/>\n      <use x=\"1024.40625\" xlink:href=\"#DejaVuSans-111\"/>\n      <use x=\"1085.587891\" xlink:href=\"#DejaVuSans-109\"/>\n      <use x=\"1183\" xlink:href=\"#DejaVuSans-109\"/>\n      <use x=\"1280.412109\" xlink:href=\"#DejaVuSans-101\"/>\n      <use x=\"1341.935547\" xlink:href=\"#DejaVuSans-110\"/>\n      <use x=\"1405.314453\" xlink:href=\"#DejaVuSans-100\"/>\n      <use x=\"1468.791016\" xlink:href=\"#DejaVuSans-97\"/>\n      <use x=\"1530.070312\" xlink:href=\"#DejaVuSans-116\"/>\n      <use x=\"1569.279297\" xlink:href=\"#DejaVuSans-105\"/>\n      <use x=\"1597.0625\" xlink:href=\"#DejaVuSans-111\"/>\n      <use x=\"1658.244141\" xlink:href=\"#DejaVuSans-110\"/>\n     </g>\n    </g>\n    <g id=\"line2d_21\">\n     <path d=\"M 383.476562 184.2175 \nL 403.476562 184.2175 \n\" style=\"fill:none;stroke:#2ca02c;stroke-linecap:square;stroke-width:1.5;\"/>\n    </g>\n    <g id=\"line2d_22\"/>\n    <g id=\"text_17\">\n     <!-- Weighted Random recommendation -->\n     <g transform=\"translate(411.476562 187.7175)scale(0.1 -0.1)\">\n      <defs>\n       <path d=\"M 3.328125 72.90625 \nL 13.28125 72.90625 \nL 28.609375 11.28125 \nL 43.890625 72.90625 \nL 54.984375 72.90625 \nL 70.3125 11.28125 \nL 85.59375 72.90625 \nL 95.609375 72.90625 \nL 77.296875 0 \nL 64.890625 0 \nL 49.515625 63.28125 \nL 33.984375 0 \nL 21.578125 0 \nz\n\" id=\"DejaVuSans-87\"/>\n       <path d=\"M 45.40625 27.984375 \nQ 45.40625 37.75 41.375 43.109375 \nQ 37.359375 48.484375 30.078125 48.484375 \nQ 22.859375 48.484375 18.828125 43.109375 \nQ 14.796875 37.75 14.796875 27.984375 \nQ 14.796875 18.265625 18.828125 12.890625 \nQ 22.859375 7.515625 30.078125 7.515625 \nQ 37.359375 7.515625 41.375 12.890625 \nQ 45.40625 18.265625 45.40625 27.984375 \nz\nM 54.390625 6.78125 \nQ 54.390625 -7.171875 48.1875 -13.984375 \nQ 42 -20.796875 29.203125 -20.796875 \nQ 24.46875 -20.796875 20.265625 -20.09375 \nQ 16.0625 -19.390625 12.109375 -17.921875 \nL 12.109375 -9.1875 \nQ 16.0625 -11.328125 19.921875 -12.34375 \nQ 23.78125 -13.375 27.78125 -13.375 \nQ 36.625 -13.375 41.015625 -8.765625 \nQ 45.40625 -4.15625 45.40625 5.171875 \nL 45.40625 9.625 \nQ 42.625 4.78125 38.28125 2.390625 \nQ 33.9375 0 27.875 0 \nQ 17.828125 0 11.671875 7.65625 \nQ 5.515625 15.328125 5.515625 27.984375 \nQ 5.515625 40.671875 11.671875 48.328125 \nQ 17.828125 56 27.875 56 \nQ 33.9375 56 38.28125 53.609375 \nQ 42.625 51.21875 45.40625 46.390625 \nL 45.40625 54.6875 \nL 54.390625 54.6875 \nz\n\" id=\"DejaVuSans-103\"/>\n       <path d=\"M 54.890625 33.015625 \nL 54.890625 0 \nL 45.90625 0 \nL 45.90625 32.71875 \nQ 45.90625 40.484375 42.875 44.328125 \nQ 39.84375 48.1875 33.796875 48.1875 \nQ 26.515625 48.1875 22.3125 43.546875 \nQ 18.109375 38.921875 18.109375 30.90625 \nL 18.109375 0 \nL 9.078125 0 \nL 9.078125 75.984375 \nL 18.109375 75.984375 \nL 18.109375 46.1875 \nQ 21.34375 51.125 25.703125 53.5625 \nQ 30.078125 56 35.796875 56 \nQ 45.21875 56 50.046875 50.171875 \nQ 54.890625 44.34375 54.890625 33.015625 \nz\n\" id=\"DejaVuSans-104\"/>\n      </defs>\n      <use xlink:href=\"#DejaVuSans-87\"/>\n      <use x=\"93.001953\" xlink:href=\"#DejaVuSans-101\"/>\n      <use x=\"154.525391\" xlink:href=\"#DejaVuSans-105\"/>\n      <use x=\"182.308594\" xlink:href=\"#DejaVuSans-103\"/>\n      <use x=\"245.785156\" xlink:href=\"#DejaVuSans-104\"/>\n      <use x=\"309.164062\" xlink:href=\"#DejaVuSans-116\"/>\n      <use x=\"348.373047\" xlink:href=\"#DejaVuSans-101\"/>\n      <use x=\"409.896484\" xlink:href=\"#DejaVuSans-100\"/>\n      <use x=\"473.373047\" xlink:href=\"#DejaVuSans-32\"/>\n      <use x=\"505.160156\" xlink:href=\"#DejaVuSans-82\"/>\n      <use x=\"572.392578\" xlink:href=\"#DejaVuSans-97\"/>\n      <use x=\"633.671875\" xlink:href=\"#DejaVuSans-110\"/>\n      <use x=\"697.050781\" xlink:href=\"#DejaVuSans-100\"/>\n      <use x=\"760.527344\" xlink:href=\"#DejaVuSans-111\"/>\n      <use x=\"821.708984\" xlink:href=\"#DejaVuSans-109\"/>\n      <use x=\"919.121094\" xlink:href=\"#DejaVuSans-32\"/>\n      <use x=\"950.908203\" xlink:href=\"#DejaVuSans-114\"/>\n      <use x=\"989.771484\" xlink:href=\"#DejaVuSans-101\"/>\n      <use x=\"1051.294922\" xlink:href=\"#DejaVuSans-99\"/>\n      <use x=\"1106.275391\" xlink:href=\"#DejaVuSans-111\"/>\n      <use x=\"1167.457031\" xlink:href=\"#DejaVuSans-109\"/>\n      <use x=\"1264.869141\" xlink:href=\"#DejaVuSans-109\"/>\n      <use x=\"1362.28125\" xlink:href=\"#DejaVuSans-101\"/>\n      <use x=\"1423.804688\" xlink:href=\"#DejaVuSans-110\"/>\n      <use x=\"1487.183594\" xlink:href=\"#DejaVuSans-100\"/>\n      <use x=\"1550.660156\" xlink:href=\"#DejaVuSans-97\"/>\n      <use x=\"1611.939453\" xlink:href=\"#DejaVuSans-116\"/>\n      <use x=\"1651.148438\" xlink:href=\"#DejaVuSans-105\"/>\n      <use x=\"1678.931641\" xlink:href=\"#DejaVuSans-111\"/>\n      <use x=\"1740.113281\" xlink:href=\"#DejaVuSans-110\"/>\n     </g>\n    </g>\n   </g>\n  </g>\n </g>\n <defs>\n  <clipPath id=\"peebd848bbe\">\n   <rect height=\"326.16\" width=\"558\" x=\"42.828125\" y=\"7.2\"/>\n  </clipPath>\n </defs>\n</svg>\n",
      "image/png": "[encoded data removed]"
     },
     "metadata": {
      "needs_background": "light"
     }
    }
   ],
   "source": [
    "plt.figure(figsize=(10, 6))\n",
    "\n",
    "plt.plot(top_items_count_list, result_random_recommendation, label=\"Random recommendation\")\n",
    "plt.plot(top_items_count_list, result_popular_recommendation, label=\"Popularity-based recommendation\")\n",
    "plt.plot(top_items_count_list, result_weighted_random_recs, label=\"Weighted Random recommendation\")\n",
    "plt.xlabel('top-k items')\n",
    "plt.legend()\n",
    "plt.show()"
   ]
  },
  {
   "cell_type": "markdown",
   "metadata": {},
   "source": [
    "Качество рекомендательной модели по популярным товарам не зависит от величины списка топ-k товаров. Это связано с тем что список топ 5 товаров, которые мы рекомендуем, не меняется от `k`.\n",
    "\n",
    "Качество моделей, завязанных на случайном выборе, с ростом списка топ-k товаров уменьшается. Это связано с тем что вероятность порекомендовать определёный товар уменьшается с ростом `k`. А в большинстве своём пользователи покупают популярные товары. Поэтому в случайный список эти популярные товары попадают всё реже и реже. "
   ]
  },
  {
   "cell_type": "markdown",
   "metadata": {},
   "source": [
    "#### Тюнинг модели ItemItemRecomender."
   ]
  },
  {
   "cell_type": "code",
   "execution_count": null,
   "metadata": {},
   "outputs": [],
   "source": []
  }
 ],
 "metadata": {
  "kernelspec": {
   "display_name": "Python 3",
   "language": "python",
   "name": "python3"
  },
  "language_info": {
   "codemirror_mode": {
    "name": "ipython",
    "version": 3
   },
   "file_extension": ".py",
   "mimetype": "text/x-python",
   "name": "python",
   "nbconvert_exporter": "python",
   "pygments_lexer": "ipython3",
   "version": "3.8.2-final"
  }
 },
 "nbformat": 4,
 "nbformat_minor": 4
}