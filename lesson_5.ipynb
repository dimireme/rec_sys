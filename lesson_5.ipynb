{
 "cells": [
  {
   "cell_type": "markdown",
   "metadata": {},
   "source": [
    "# Домащнее задание 5\n",
    "\n",
    "## Поиск похожих товаров и пользователей. Гибридные рекомендательные системы."
   ]
  },
  {
   "cell_type": "markdown",
   "metadata": {},
   "source": [
    "Ответьте на вопросы:"
   ]
  },
  {
   "cell_type": "markdown",
   "metadata": {},
   "source": [
    "**1. В чем принципиальное отличие гибридных рекомендательных систем от коллаборативной филтьтрации?**\n",
    "\n",
    "При колаборативной фильтрации в модели учитываются только взаимодействия пользователей и товаров. В гибридных рекомендательных системах помимо взаимодействий учитываются фичи пользователей и товаров."
   ]
  },
  {
   "cell_type": "markdown",
   "metadata": {},
   "source": [
    "**2. Приведите 2-3 примера задач, в которых необходимо использовать гибридные системы.**\n",
    "\n",
    "- если часто меняется ассортимент товаров (амазон)\n",
    "- если часто приходят новые пользователи\n",
    "\n",
    "Это задачи, в которой истории взаимодействий пользователей и товаров не достаточно для построения модели (user-item матрица имеет нулевые столбцы или строки)."
   ]
  },
  {
   "cell_type": "code",
   "execution_count": null,
   "metadata": {},
   "outputs": [],
   "source": []
  }
 ],
 "metadata": {
  "kernelspec": {
   "display_name": "Python 3",
   "language": "python",
   "name": "python3"
  },
  "language_info": {
   "codemirror_mode": {
    "name": "ipython",
    "version": 3
   },
   "file_extension": ".py",
   "mimetype": "text/x-python",
   "name": "python",
   "nbconvert_exporter": "python",
   "pygments_lexer": "ipython3",
   "version": "3.8.2"
  }
 },
 "nbformat": 4,
 "nbformat_minor": 2
}
